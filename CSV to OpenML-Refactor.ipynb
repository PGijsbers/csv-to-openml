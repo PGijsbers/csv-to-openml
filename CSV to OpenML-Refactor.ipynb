{
 "cells": [
  {
   "cell_type": "markdown",
   "metadata": {},
   "source": [
    "<div style='margin: auto; width: 80%;'><h1 style='font-size: 55px; display: inline-block'>CSV to OpenML Helper</h1> <img style=\"float: left; height:80px; margin-right:10px;\" src=\"https://raw.githubusercontent.com/PGijsbers/Talks/master/odsc/images/openml/dots.png\"></div> <i class=\"fas fa-file-csv\"></i>"
   ]
  },
  {
   "cell_type": "markdown",
   "metadata": {},
   "source": [
    "This notebook helps you upload a csv-file to OpenML.\n",
    "To use this notebook, run it cell-by-cell.\n",
    "Whenever the text prompts you to do something, do that before continuing in the notebook.\n",
    "\n",
    "If you experience issues using this notebook, or have further questions, please [click here](https://github.com/PGijsbers/csv-to-openml/issues/new) to open an issue on Github."
   ]
  },
  {
   "cell_type": "code",
   "execution_count": 1,
   "metadata": {},
   "outputs": [],
   "source": [
    "from __future__ import print_function\n",
    "from ipywidgets import interact, interactive, fixed, interact_manual\n",
    "import ipywidgets as widgets\n",
    "from IPython.display import Markdown\n",
    "\n",
    "import csv\n",
    "import io\n",
    "import re\n",
    "import numpy as np\n",
    "import openml\n",
    "import pandas as pd"
   ]
  },
  {
   "cell_type": "code",
   "execution_count": 2,
   "metadata": {},
   "outputs": [],
   "source": [
    "from app_widgets import file_upload_widget, publish_button, data_annotation_widget_collection,metadata_widget, DatasetAnnotation\n",
    "from app_logic import csv_bytes_to_dataframe, create_openml_dataset\n",
    "\n",
    "data = None\n",
    "da = DatasetAnnotation()"
   ]
  },
  {
   "cell_type": "code",
   "execution_count": 3,
   "metadata": {
    "scrolled": true
   },
   "outputs": [
    {
     "data": {
      "application/vnd.jupyter.widget-view+json": {
       "model_id": "0a0c44ebf7af42c5ab902de88817b4b5",
       "version_major": 2,
       "version_minor": 0
      },
      "text/plain": [
       "FileUpload(value={}, accept='.csv', description='Select a csv file')"
      ]
     },
     "metadata": {},
     "output_type": "display_data"
    }
   ],
   "source": [
    "def on_file_uploaded(input_):\n",
    "    global data\n",
    "    data = csv_bytes_to_dataframe(input_['new'][0])\n",
    "\n",
    "file_upload_widget.observe(on_file_uploaded, 'data')\n",
    "file_upload_widget"
   ]
  },
  {
   "cell_type": "markdown",
   "metadata": {},
   "source": [
    "Please provide select the CSV file you want to upload to OpenML:"
   ]
  },
  {
   "cell_type": "code",
   "execution_count": null,
   "metadata": {},
   "outputs": [],
   "source": [
    "Markdown(f\"The selected file has {len(data)} rows and {len(data.columns)} columns. \"\n",
    "         \"Below is a preview of the first rows of your csv file.\")"
   ]
  },
  {
   "cell_type": "code",
   "execution_count": null,
   "metadata": {},
   "outputs": [],
   "source": [
    "data.head()"
   ]
  },
  {
   "cell_type": "markdown",
   "metadata": {},
   "source": [
    "OpenML wants to capture some rich meta-data about uploaded datasets, so that other users and programs may make better use of the datasets.\n",
    "\n",
    "It's crucial for OpenML to know the *type* of data in each column.\n",
    "Each feature should be one of:\n",
    "\n",
    " - A numeric feature. Examples: `car price` or `tree height`\n",
    " - A string (text). Examples: `sales text` or `tree name`\n",
    " - A categorical feature (can only take one of a set of unique values). Examples: `car color` (red, blue, ...) or `evergreen` (yes, no).\n",
    " \n",
    "Based on the data found in our csv file, we inferred the the types for each column.\n",
    "Below you will find a table which allows you to add or edit any of the feature meta-data OpenML accepts:\n",
    "\n",
    "In the **'Column Names'** column you will find the column names of your data.\n",
    "You can edit the column names directly.\n",
    "\n",
    "The **'Column Types'** column shows the column types as described above, as inferred from the data.\n",
    "If the column type is not correct, please select the correct option from the dropdown menu.\n",
    "\n",
    "The **'Example Values'** column simply shows some values of the column for easy reference.\n",
    "This column should not be edited (editing it has no effect).\n",
    "\n",
    "In the **'Ignore'** column, you can select the columns which should be ignored when creating models (e.g. identifiers or indexes).\n",
    "If no such column exists in the dataset, this column may be ignored.\n",
    "\n",
    "In the **'ID'** column you can select the column that contains row ids, if such a column is present.\n",
    "If no row id column is present in the dataset, this column may be ignored.\n",
    "\n",
    "\n",
    "Please check that the names and types are correct, complete the 'Ignore' and 'ID' columns"
   ]
  },
  {
   "cell_type": "code",
   "execution_count": null,
   "metadata": {
    "scrolled": false
   },
   "outputs": [],
   "source": [
    "data_annotation_widget_collection(data, da)"
   ]
  },
  {
   "cell_type": "markdown",
   "metadata": {},
   "source": [
    "Before you continue, double-check that the data, column names and data types look correct (if not, retrace steps above). \n",
    "\n",
    "*If you accidentally selected an ID or Target column but there should be none, please rerun the large code cell before the previous markdown segment as well as the `widgets.VBox(coltype_widgets)` cell. This will erase the Ignore, ID and Target data (but not names and types).*"
   ]
  },
  {
   "cell_type": "markdown",
   "metadata": {},
   "source": [
    "## Meta-data"
   ]
  },
  {
   "cell_type": "markdown",
   "metadata": {},
   "source": [
    "Thanks for bearing with us! All this extra information is going to make sure the dataset is easier for others to find and understand. There's just a few more things we'd like to know:"
   ]
  },
  {
   "cell_type": "code",
   "execution_count": null,
   "metadata": {
    "scrolled": false
   },
   "outputs": [],
   "source": [
    "metadata_widget(da)"
   ]
  },
  {
   "cell_type": "markdown",
   "metadata": {},
   "source": [
    "## Uploading to OpenML\n",
    "The following few code cells process your input and format the data for uploading."
   ]
  },
  {
   "cell_type": "code",
   "execution_count": null,
   "metadata": {},
   "outputs": [],
   "source": [
    "oml_dataset = create_openml_dataset(data, da)"
   ]
  },
  {
   "cell_type": "code",
   "execution_count": null,
   "metadata": {},
   "outputs": [],
   "source": [
    "# Cell for testing\n",
    "openml.config.start_using_configuration_for_example()\n",
    "# openml.config.apikey = ''"
   ]
  },
  {
   "cell_type": "code",
   "execution_count": null,
   "metadata": {},
   "outputs": [],
   "source": [
    "def publish(_):\n",
    "    oml_dataset.publish()\n",
    "    display(oml_dataset)\n",
    "    publish_button.disabled = True\n",
    "    publish_button.description = 'Published!'\n",
    "\n",
    "publish_button.on_click(publish)"
   ]
  },
  {
   "cell_type": "code",
   "execution_count": null,
   "metadata": {},
   "outputs": [],
   "source": [
    "text_and_input = None\n",
    "if openml.config.apikey == '':\n",
    "    key_text = widgets.Output()    \n",
    "    need_api_key_text = \"\"\"    \n",
    "    We noticed you have not configured an API key for OpenML yet.\n",
    "    To find your API key, log in on the [OpenML website](https://openml.org) ([register](https://www.openml.org/register) if needed)\n",
    "    , go to your account page (click the avatar image on the top right) and click \"API Authentication\".\n",
    "    \"\"\"\n",
    "    with key_text:\n",
    "        display(Markdown(need_api_key_text))\n",
    "\n",
    "    def set_openml_apikey(key):\n",
    "        openml.config.apikey = key\n",
    "        if re.fullmatch('[a-f0-9]{32}', key):\n",
    "            text_and_input.close()\n",
    "            publish_button.disabled = False\n",
    "\n",
    "    key_input = interactive(set_openml_apikey, key='')\n",
    "    key_input.kwargs_widgets[0].description = 'API Key:'\n",
    "\n",
    "    text_and_input = widgets.VBox([key_text, key_input])\n",
    "    # show 'need_api_key_text'\n",
    "else:\n",
    "    publish_button.disabled = False"
   ]
  },
  {
   "cell_type": "markdown",
   "metadata": {},
   "source": [
    "Below the following the following cell you should find the button which allows you to publish to OpenML!\n",
    "In case your authentication is not (correcty) configured, follow the instructions to enable the button."
   ]
  },
  {
   "cell_type": "code",
   "execution_count": null,
   "metadata": {},
   "outputs": [],
   "source": [
    "if text_and_input is not None:\n",
    "    display(text_and_input)\n",
    "display(publish_button)"
   ]
  },
  {
   "cell_type": "markdown",
   "metadata": {},
   "source": [
    "---\n",
    "### Thank you very much for sharing your dataset and contributing to a world of Open Science!"
   ]
  },
  {
   "cell_type": "markdown",
   "metadata": {},
   "source": [
    "-----\n",
    "#### Please Ignore Anything Below\n",
    "\n",
    "TODOs:\n",
    "\n",
    "[ ] Format text as Markdown for API Key message (Maybe have separate cell output markdown widget).\n",
    "\n",
    "[x] Infer Row ID attribute and/or allow user to set this. \n",
    "    [ ] try infer?\n",
    "    \n",
    "[x] Set default target attribute \n",
    "    [ ] try infer?\n",
    "\n",
    "[ ] Perform checks for **required** meta-data fields before publish (name, description)\n",
    "\n",
    "[ ] Bug - Column names may not be identical **at any point**.\n",
    "\n",
    "[ ] Input Checking - Perform xsd checks (e.g. no space in column name)"
   ]
  }
 ],
 "metadata": {
  "kernelspec": {
   "display_name": "Python 3",
   "language": "python",
   "name": "python3"
  },
  "language_info": {
   "codemirror_mode": {
    "name": "ipython",
    "version": 3
   },
   "file_extension": ".py",
   "mimetype": "text/x-python",
   "name": "python",
   "nbconvert_exporter": "python",
   "pygments_lexer": "ipython3",
   "version": "3.6.9"
  }
 },
 "nbformat": 4,
 "nbformat_minor": 2
}
