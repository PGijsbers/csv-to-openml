{
 "cells": [
  {
   "cell_type": "markdown",
   "metadata": {},
   "source": [
    "## Ignore this section"
   ]
  },
  {
   "cell_type": "markdown",
   "metadata": {},
   "source": [
    "TODOs:\n",
    "\n",
    "\n",
    "\n",
    "[x] Feedback on loaded file: column names, number columns, instances.\n",
    "\n",
    "[x] Infer Column Types\n",
    "\n",
    "[x] Allow user to modify column types.\n",
    "\n",
    "[ ] Fix bug: spaces introduced in categorical values list\n",
    "\n",
    "[ ] Format text as Markdown for API Key message (Maybe have separate cell output markdown widget).\n",
    "\n",
    "[ ] Modify column types with a dropdown instead (but then text for categorical?)\n",
    "\n",
    "\n",
    "[ ] Infer Row ID attribute and/or allow user to set this. (radio button in Infer Column Types table?)\n",
    "\n",
    "[ ] Set default target attribute (radio button in Infer Column Types Table?)\n",
    "\n",
    "[ ] Add required meta-data fields (name and description? more?)\n",
    "\n",
    "[ ] OpenML Logo :)\n"
   ]
  },
  {
   "cell_type": "markdown",
   "metadata": {},
   "source": [
    "# CSV to OpenML helper"
   ]
  },
  {
   "cell_type": "markdown",
   "metadata": {},
   "source": [
    "This notebook helps you upload a csv-file to OpenML.\n",
    "To use this notebook, run it cell-by-cell.\n",
    "Whenever the text prompts you to do something, do that before continuing in the notebook.\n",
    "\n",
    "If you experience issues using this notebook, or have further questions, please [click here](https://github.com/PGijsbers/csv-to-openml/issues/new) to open an issue on Github."
   ]
  },
  {
   "cell_type": "code",
   "execution_count": 39,
   "metadata": {},
   "outputs": [],
   "source": [
    "from __future__ import print_function\n",
    "from ipywidgets import interact, interactive, fixed, interact_manual\n",
    "import ipywidgets as widgets\n",
    "from IPython.display import Markdown\n",
    "\n",
    "import csv\n",
    "import io\n",
    "import re\n",
    "import numpy as np\n",
    "import openml\n",
    "import pandas as pd"
   ]
  },
  {
   "cell_type": "code",
   "execution_count": 40,
   "metadata": {},
   "outputs": [],
   "source": [
    "# UI components that will be rendered in this notebook:\n",
    "upload_widget = widgets.FileUpload(\n",
    "    accept='.csv',\n",
    "    multiple=False,\n",
    "    description='Select a csv file'\n",
    ")\n",
    "\n",
    "publish_button = widgets.Button(\n",
    "    description='Publish dataset',\n",
    "    disabled=True,\n",
    "    button_style='', # 'success', 'info', 'warning', 'danger' or ''\n",
    "    tooltip='Click me',\n",
    "    icon='check',\n",
    "    visible=False\n",
    ")"
   ]
  },
  {
   "cell_type": "code",
   "execution_count": 3,
   "metadata": {
    "scrolled": true
   },
   "outputs": [],
   "source": [
    "data = None\n",
    "\n",
    "def on_file_uploaded(input_):\n",
    "    global data\n",
    "    file_content = io.StringIO(upload_widget.data[0].decode())\n",
    "    \n",
    "    has_header = csv.Sniffer().has_header(file_content.read(1024))\n",
    "    file_content.seek(0)\n",
    "    \n",
    "    data = pd.read_csv(file_content, header=0 if has_header else None)\n",
    "    publish_button.visible=True\n",
    "\n",
    "upload_widget.observe(on_file_uploaded, 'data')"
   ]
  },
  {
   "cell_type": "markdown",
   "metadata": {},
   "source": [
    "Please provide select the CSV file you want to upload to OpenML:"
   ]
  },
  {
   "cell_type": "code",
   "execution_count": 4,
   "metadata": {},
   "outputs": [
    {
     "data": {
      "application/vnd.jupyter.widget-view+json": {
       "model_id": "995d11be62dc4b86a93d505b8f7d43af",
       "version_major": 2,
       "version_minor": 0
      },
      "text/plain": [
       "FileUpload(value={}, accept='.csv', description='Select a csv file')"
      ]
     },
     "metadata": {},
     "output_type": "display_data"
    }
   ],
   "source": [
    "upload_widget"
   ]
  },
  {
   "cell_type": "code",
   "execution_count": 5,
   "metadata": {},
   "outputs": [
    {
     "data": {
      "text/markdown": [
       "The selected file has 150 rows and 5 columns. Below is a preview of the first rows of your csv file."
      ],
      "text/plain": [
       "<IPython.core.display.Markdown object>"
      ]
     },
     "execution_count": 5,
     "metadata": {},
     "output_type": "execute_result"
    }
   ],
   "source": [
    "Markdown(f\"The selected file has {len(data)} rows and {len(data.columns)} columns. \"\n",
    "         \"Below is a preview of the first rows of your csv file.\")"
   ]
  },
  {
   "cell_type": "code",
   "execution_count": 6,
   "metadata": {},
   "outputs": [
    {
     "data": {
      "text/html": [
       "<div>\n",
       "<style scoped>\n",
       "    .dataframe tbody tr th:only-of-type {\n",
       "        vertical-align: middle;\n",
       "    }\n",
       "\n",
       "    .dataframe tbody tr th {\n",
       "        vertical-align: top;\n",
       "    }\n",
       "\n",
       "    .dataframe thead th {\n",
       "        text-align: right;\n",
       "    }\n",
       "</style>\n",
       "<table border=\"1\" class=\"dataframe\">\n",
       "  <thead>\n",
       "    <tr style=\"text-align: right;\">\n",
       "      <th></th>\n",
       "      <th>A</th>\n",
       "      <th>B</th>\n",
       "      <th>C</th>\n",
       "      <th>D</th>\n",
       "      <th>Flower</th>\n",
       "    </tr>\n",
       "  </thead>\n",
       "  <tbody>\n",
       "    <tr>\n",
       "      <th>0</th>\n",
       "      <td>1</td>\n",
       "      <td>3.5</td>\n",
       "      <td>1.4</td>\n",
       "      <td>0.2</td>\n",
       "      <td>Iris-setosa</td>\n",
       "    </tr>\n",
       "    <tr>\n",
       "      <th>1</th>\n",
       "      <td>9</td>\n",
       "      <td>3.0</td>\n",
       "      <td>1.4</td>\n",
       "      <td>0.2</td>\n",
       "      <td>Iris-setosa</td>\n",
       "    </tr>\n",
       "    <tr>\n",
       "      <th>2</th>\n",
       "      <td>7</td>\n",
       "      <td>3.2</td>\n",
       "      <td>1.3</td>\n",
       "      <td>0.2</td>\n",
       "      <td>Iris-setosa</td>\n",
       "    </tr>\n",
       "    <tr>\n",
       "      <th>3</th>\n",
       "      <td>6</td>\n",
       "      <td>3.1</td>\n",
       "      <td>1.5</td>\n",
       "      <td>0.2</td>\n",
       "      <td>Iris-setosa</td>\n",
       "    </tr>\n",
       "    <tr>\n",
       "      <th>4</th>\n",
       "      <td>0</td>\n",
       "      <td>3.6</td>\n",
       "      <td>1.4</td>\n",
       "      <td>0.2</td>\n",
       "      <td>Iris-setosa</td>\n",
       "    </tr>\n",
       "  </tbody>\n",
       "</table>\n",
       "</div>"
      ],
      "text/plain": [
       "   A    B    C    D       Flower\n",
       "0  1  3.5  1.4  0.2  Iris-setosa\n",
       "1  9  3.0  1.4  0.2  Iris-setosa\n",
       "2  7  3.2  1.3  0.2  Iris-setosa\n",
       "3  6  3.1  1.5  0.2  Iris-setosa\n",
       "4  0  3.6  1.4  0.2  Iris-setosa"
      ]
     },
     "execution_count": 6,
     "metadata": {},
     "output_type": "execute_result"
    }
   ],
   "source": [
    "data.head()"
   ]
  },
  {
   "cell_type": "markdown",
   "metadata": {},
   "source": [
    "Next, we are going to run some code to help with data annotation..."
   ]
  },
  {
   "cell_type": "code",
   "execution_count": 7,
   "metadata": {},
   "outputs": [],
   "source": [
    "def infer_column_types(dataframe, max_unique_values=10):\n",
    "    column_types = { }\n",
    "    for column in dataframe.columns:\n",
    "        if dataframe[column].nunique() <= max_unique_values:\n",
    "            column_types[column] = set(dataframe[column].unique())\n",
    "        elif np.issubdtype(dataframe[column].dtype, np.number):\n",
    "            column_types[column] = 'numeric'\n",
    "        else:\n",
    "            column_types[column] = 'string'\n",
    "    return column_types"
   ]
  },
  {
   "cell_type": "code",
   "execution_count": 8,
   "metadata": {},
   "outputs": [],
   "source": [
    "column_types = infer_column_types(data)"
   ]
  },
  {
   "cell_type": "code",
   "execution_count": 9,
   "metadata": {},
   "outputs": [],
   "source": [
    "def set_column_type_maker(column_widget):\n",
    "    def set_column_type(change):\n",
    "            if ', ' in change['new']:\n",
    "                column_types[column_widget.value] = set(change['new'].split(','))\n",
    "            else:\n",
    "                column_types[column_widget.value] = change['new']\n",
    "    return set_column_type\n",
    "\n",
    "coltype_widgets = []\n",
    "coltype_widgets.append(\n",
    "    widgets.HBox(\n",
    "        [\n",
    "            widgets.Label(\n",
    "                'Column Names',\n",
    "                layout=widgets.Layout(width='300px')),\n",
    "            widgets.Label(\n",
    "                'Column Types',\n",
    "                layout=widgets.Layout(width='300px')),\n",
    "            widgets.Label(\n",
    "                'Example Values',\n",
    "                layout=widgets.Layout(width='300px')),\n",
    "        ])\n",
    ")\n",
    "\n",
    "for i, column in enumerate(data.columns):\n",
    "    column_name_widget = widgets.Text(\n",
    "        value=column,\n",
    "        layout=widgets.Layout(width='300px')\n",
    "    )    \n",
    "    def set_column_name(change):\n",
    "        column_types[change['new']] = column_types[change['old']]\n",
    "        del column_types[change['old']]\n",
    "        data.rename(columns={change['old']: change['new']}, inplace=True)\n",
    "    \n",
    "    column_name_widget.observe(set_column_name, 'value')\n",
    "    \n",
    "    if isinstance(column_types[column], set):\n",
    "        type_display_value = ', '.join([str(el) for el in column_types[column]])\n",
    "    else:\n",
    "        type_display_value = column_types[column]\n",
    "    column_type_widget = widgets.Text(\n",
    "        value=type_display_value,\n",
    "        layout=widgets.Layout(width='300px')\n",
    "    )    \n",
    "    set_column_type = set_column_type_maker(column_name_widget)    \n",
    "    column_type_widget.observe(set_column_type, 'value')\n",
    "    \n",
    "    example_values_widget = widgets.Text(\n",
    "        value=', '.join([str(v) for v in data[column].head().values]),\n",
    "        layout=widgets.Layout(width='300px')\n",
    "    )    \n",
    "    \n",
    "    coltype_widgets.append(\n",
    "        widgets.HBox(\n",
    "        [\n",
    "            column_name_widget,\n",
    "            column_type_widget,\n",
    "            example_values_widget\n",
    "        ])\n",
    "    )    "
   ]
  },
  {
   "cell_type": "markdown",
   "metadata": {},
   "source": [
    "It's crucial for OpenML to know the *type* of data in each column.\n",
    "Each feature should be one of:\n",
    "\n",
    " - A numeric feature. Examples: `car price` or `tree height`\n",
    " - A string (text). Examples: `sales text` or `tree name`\n",
    " - A nominal feature (can only take one of a set of unique values). Examples: `car color` (red, blue, ...) or `evergreen` (yes, no).\n",
    " \n",
    "Based on the data found in our csv file, we inferred the the types for each column.\n",
    "\n",
    "Below you will find a table, in the left column you will find the column names of your data.\n",
    "You can edit the column names directly.\n",
    "\n",
    "The middle column shows the column types.\n",
    "The accepted values here are either `numeric`, `string` or a number of values separated with `', '` (please note the space after the comma).\n",
    "\n",
    "The right column simply shows some values of the column for easy reference.\n",
    "This column should not be edited.\n",
    "\n",
    "Please check that the types are correct, and correct any mistakes."
   ]
  },
  {
   "cell_type": "code",
   "execution_count": 10,
   "metadata": {
    "scrolled": false
   },
   "outputs": [
    {
     "data": {
      "application/vnd.jupyter.widget-view+json": {
       "model_id": "686d1fa7879341b8851299a893bb792e",
       "version_major": 2,
       "version_minor": 0
      },
      "text/plain": [
       "VBox(children=(HBox(children=(Label(value='Column Names', layout=Layout(width='300px')), Label(value='Column T…"
      ]
     },
     "metadata": {},
     "output_type": "display_data"
    }
   ],
   "source": [
    "widgets.VBox(coltype_widgets)"
   ]
  },
  {
   "cell_type": "markdown",
   "metadata": {},
   "source": [
    "Double-check that the data, column names and data types look correct (if not, retrace steps above):"
   ]
  },
  {
   "cell_type": "code",
   "execution_count": 11,
   "metadata": {},
   "outputs": [
    {
     "data": {
      "text/html": [
       "<div>\n",
       "<style scoped>\n",
       "    .dataframe tbody tr th:only-of-type {\n",
       "        vertical-align: middle;\n",
       "    }\n",
       "\n",
       "    .dataframe tbody tr th {\n",
       "        vertical-align: top;\n",
       "    }\n",
       "\n",
       "    .dataframe thead th {\n",
       "        text-align: right;\n",
       "    }\n",
       "</style>\n",
       "<table border=\"1\" class=\"dataframe\">\n",
       "  <thead>\n",
       "    <tr style=\"text-align: right;\">\n",
       "      <th></th>\n",
       "      <th>A</th>\n",
       "      <th>B</th>\n",
       "      <th>C</th>\n",
       "      <th>D</th>\n",
       "      <th>Flower</th>\n",
       "    </tr>\n",
       "  </thead>\n",
       "  <tbody>\n",
       "    <tr>\n",
       "      <th>0</th>\n",
       "      <td>1</td>\n",
       "      <td>3.5</td>\n",
       "      <td>1.4</td>\n",
       "      <td>0.2</td>\n",
       "      <td>Iris-setosa</td>\n",
       "    </tr>\n",
       "    <tr>\n",
       "      <th>1</th>\n",
       "      <td>9</td>\n",
       "      <td>3.0</td>\n",
       "      <td>1.4</td>\n",
       "      <td>0.2</td>\n",
       "      <td>Iris-setosa</td>\n",
       "    </tr>\n",
       "    <tr>\n",
       "      <th>2</th>\n",
       "      <td>7</td>\n",
       "      <td>3.2</td>\n",
       "      <td>1.3</td>\n",
       "      <td>0.2</td>\n",
       "      <td>Iris-setosa</td>\n",
       "    </tr>\n",
       "    <tr>\n",
       "      <th>3</th>\n",
       "      <td>6</td>\n",
       "      <td>3.1</td>\n",
       "      <td>1.5</td>\n",
       "      <td>0.2</td>\n",
       "      <td>Iris-setosa</td>\n",
       "    </tr>\n",
       "    <tr>\n",
       "      <th>4</th>\n",
       "      <td>0</td>\n",
       "      <td>3.6</td>\n",
       "      <td>1.4</td>\n",
       "      <td>0.2</td>\n",
       "      <td>Iris-setosa</td>\n",
       "    </tr>\n",
       "  </tbody>\n",
       "</table>\n",
       "</div>"
      ],
      "text/plain": [
       "   A    B    C    D       Flower\n",
       "0  1  3.5  1.4  0.2  Iris-setosa\n",
       "1  9  3.0  1.4  0.2  Iris-setosa\n",
       "2  7  3.2  1.3  0.2  Iris-setosa\n",
       "3  6  3.1  1.5  0.2  Iris-setosa\n",
       "4  0  3.6  1.4  0.2  Iris-setosa"
      ]
     },
     "metadata": {},
     "output_type": "display_data"
    },
    {
     "data": {
      "text/plain": [
       "{'A': {0, 1, 2, 3, 4, 5, 6, 7, 8, 9},\n",
       " 'B': 'numeric',\n",
       " 'C': 'numeric',\n",
       " 'D': 'numeric',\n",
       " 'Flower': {'Iris-setosa', 'Iris-versicolor', 'Iris-virginica'}}"
      ]
     },
     "metadata": {},
     "output_type": "display_data"
    }
   ],
   "source": [
    "display(data.head())\n",
    "display(column_types)"
   ]
  },
  {
   "cell_type": "markdown",
   "metadata": {},
   "source": [
    "## Meta-data"
   ]
  },
  {
   "cell_type": "markdown",
   "metadata": {},
   "source": [
    "Great! Now we just need some meta-data such as a name and description.\n",
    "This meta-data makes it easier for others to find and understand your dataset."
   ]
  },
  {
   "cell_type": "code",
   "execution_count": 12,
   "metadata": {},
   "outputs": [
    {
     "data": {
      "application/vnd.jupyter.widget-view+json": {
       "model_id": "315afa71b7c34458a9808493df3a6c36",
       "version_major": 2,
       "version_minor": 0
      },
      "text/plain": [
       "VBox(children=(Text(value='', description='Name:', layout=Layout(width='900px'), placeholder='Name of the data…"
      ]
     },
     "metadata": {},
     "output_type": "display_data"
    }
   ],
   "source": [
    "name_widget = widgets.Text(\n",
    "    placeholder='Name of the dataset',\n",
    "    description='Name:',\n",
    "    layout=widgets.Layout(width='900px')\n",
    ")\n",
    "description_widget = widgets.Textarea(\n",
    "    placeholder=('A description of the dataset. '\n",
    "                 'Include for example:\\n'\n",
    "                 ' - What is the domain of this dataset?\\n'\n",
    "                 ' - How was the dataset gathered?\\n'\n",
    "                 ' - What is the meaning of each feature?'\n",
    "                ),\n",
    "    description='Description:',\n",
    "    layout=widgets.Layout(width='900px', height='120px')\n",
    ")\n",
    "\n",
    "creator_widget = widgets.Text(\n",
    "    placeholder='Original creator(s) of the dataset',\n",
    "    description='Creator(s):',\n",
    "    layout=widgets.Layout(width='900px')\n",
    ")\n",
    "\n",
    "dataset_url_widget = widgets.Text(\n",
    "    placeholder='URL to the dataset if it is also hosted elsewhere',\n",
    "    description='Data URL:',\n",
    "    layout=widgets.Layout(width='900px')\n",
    ")\n",
    "\n",
    "paper_url_widget = widgets.Text(\n",
    "    placeholder='URL to the paper which introduced the dataset',\n",
    "    description='Paper URL:',\n",
    "    layout=widgets.Layout(width='900px')\n",
    ")\n",
    "\n",
    "citation_widget = widgets.Text(\n",
    "    placeholder='Citation for inclusion in a bibliography',\n",
    "    description='Citation:',\n",
    "    layout=widgets.Layout(width='900px')\n",
    ")\n",
    "\n",
    "# https://help.data.world/hc/en-us/articles/115006114287-Common-license-types-for-datasets\n",
    "licence_widget = widgets.Text(\n",
    "    placeholder='Licence of the dataset, e.g. Public Domain, CC0, CC BY-NC',\n",
    "    description='Licence:',\n",
    "    layout=widgets.Layout(width='900px')\n",
    ")\n",
    "\n",
    "# For column names? or cells?\n",
    "language_widget = widgets.Text(\n",
    "    placeholder='Language(s) in the dataset',\n",
    "    description='Paper URL:',\n",
    "    layout=widgets.Layout(width='900px')\n",
    ")\n",
    "\n",
    "# Is this retrieval date? Data that the data itself was collected?\n",
    "collection_date_widget = widgets.Text(\n",
    "    placeholder='URL to the paper which introduced the dataset',\n",
    "    description='Paper URL:',\n",
    "    layout=widgets.Layout(width='900px')\n",
    ")\n",
    "\n",
    "widgets.VBox([name_widget, description_widget, creator_widget, dataset_url_widget, paper_url_widget, citation_widget, licence_widget])\n"
   ]
  },
  {
   "cell_type": "markdown",
   "metadata": {},
   "source": [
    "## Uploading to OpenML"
   ]
  },
  {
   "cell_type": "code",
   "execution_count": 36,
   "metadata": {},
   "outputs": [],
   "source": [
    "# openml.config.apikey = ''"
   ]
  },
  {
   "cell_type": "code",
   "execution_count": 37,
   "metadata": {},
   "outputs": [],
   "source": [
    "# retrieve data: name_widget.value"
   ]
  },
  {
   "cell_type": "code",
   "execution_count": 41,
   "metadata": {},
   "outputs": [
    {
     "data": {
      "application/vnd.jupyter.widget-view+json": {
       "model_id": "",
       "version_major": 2,
       "version_minor": 0
      },
      "text/plain": [
       "VBox(children=(Output(), interactive(children=(Text(value='', description='API Key:'), Output()), _dom_classes…"
      ]
     },
     "metadata": {},
     "output_type": "display_data"
    },
    {
     "data": {
      "application/vnd.jupyter.widget-view+json": {
       "model_id": "7bb08ff53dae4ac6b21eda632f132cd8",
       "version_major": 2,
       "version_minor": 0
      },
      "text/plain": [
       "Button(description='Publish dataset', disabled=True, icon='check', style=ButtonStyle(), tooltip='Click me')"
      ]
     },
     "metadata": {},
     "output_type": "display_data"
    }
   ],
   "source": [
    "if openml.config.apikey == '':\n",
    "    key_text = widgets.Output()    \n",
    "    need_api_key_text = \"\"\"    \n",
    "    We noticed you have not configured an API key for OpenML yet.\n",
    "    To find your API key, log in on the [OpenML website](https://openml.org) ([register](https://www.openml.org/register) if needed)\n",
    "    , go to your account page (click the avatar image on the top right) and click \"API Authentication\".\n",
    "    \"\"\"\n",
    "    with key_text:\n",
    "        display(Markdown(need_api_key_text))\n",
    "\n",
    "    def set_openml_apikey(key):\n",
    "        openml.config.apikey = key\n",
    "        if re.fullmatch('[a-f0-9]{32}', key):\n",
    "            text_and_input.close()\n",
    "            publish_button.disabled = False\n",
    "\n",
    "    key_input = interactive(set_openml_apikey, key='')\n",
    "    key_input.kwargs_widgets[0].description = 'API Key:'\n",
    "\n",
    "    text_and_input = widgets.VBox([key_text, key_input])\n",
    "    # show 'need_api_key_text'\n",
    "    display(text_and_input)\n",
    "display(publish_button)"
   ]
  },
  {
   "cell_type": "code",
   "execution_count": null,
   "metadata": {},
   "outputs": [],
   "source": []
  }
 ],
 "metadata": {
  "kernelspec": {
   "display_name": "Python 3",
   "language": "python",
   "name": "python3"
  },
  "language_info": {
   "codemirror_mode": {
    "name": "ipython",
    "version": 3
   },
   "file_extension": ".py",
   "mimetype": "text/x-python",
   "name": "python",
   "nbconvert_exporter": "python",
   "pygments_lexer": "ipython3",
   "version": "3.6.9"
  }
 },
 "nbformat": 4,
 "nbformat_minor": 2
}
