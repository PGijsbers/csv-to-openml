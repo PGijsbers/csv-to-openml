{
 "cells": [
  {
   "cell_type": "markdown",
   "metadata": {},
   "source": [
    "## Ignore this section"
   ]
  },
  {
   "cell_type": "markdown",
   "metadata": {},
   "source": [
    "TODOs:\n",
    "\n",
    "[x] Feedback on loaded file: column names, number columns, instances.\n",
    "\n",
    "[x] Infer Column Types\n",
    "\n",
    "[x] Allow user to modify column types.\n",
    "\n",
    "[ ] Perform Publish call\n",
    "\n",
    "[ ] Fix bug: spaces introduced in categorical values list\n",
    "\n",
    "[ ] Format text as Markdown for API Key message (Maybe have separate cell output markdown widget).\n",
    "\n",
    "[ ] Modify column types with a dropdown instead (but then text for categorical?)\n",
    "\n",
    "[ ] Infer Row ID attribute and/or allow user to set this. (radio button in Infer Column Types table?)\n",
    "\n",
    "[ ] Set default target attribute (radio button in Infer Column Types Table?)\n",
    "\n",
    "[ ] Add required meta-data fields (name and description? more?)\n",
    "\n",
    "[ ] OpenML Logo :)\n"
   ]
  },
  {
   "cell_type": "markdown",
   "metadata": {},
   "source": [
    "# CSV to OpenML helper"
   ]
  },
  {
   "cell_type": "markdown",
   "metadata": {},
   "source": [
    "This notebook helps you upload a csv-file to OpenML.\n",
    "To use this notebook, run it cell-by-cell.\n",
    "Whenever the text prompts you to do something, do that before continuing in the notebook.\n",
    "\n",
    "If you experience issues using this notebook, or have further questions, please [click here](https://github.com/PGijsbers/csv-to-openml/issues/new) to open an issue on Github."
   ]
  },
  {
   "cell_type": "code",
   "execution_count": 2,
   "metadata": {},
   "outputs": [],
   "source": [
    "from __future__ import print_function\n",
    "from ipywidgets import interact, interactive, fixed, interact_manual\n",
    "import ipywidgets as widgets\n",
    "from IPython.display import Markdown\n",
    "\n",
    "import csv\n",
    "import io\n",
    "import re\n",
    "import numpy as np\n",
    "import openml\n",
    "import pandas as pd"
   ]
  },
  {
   "cell_type": "code",
   "execution_count": 3,
   "metadata": {},
   "outputs": [],
   "source": [
    "# UI components that will be rendered in this notebook:\n",
    "upload_widget = widgets.FileUpload(\n",
    "    accept='.csv',\n",
    "    multiple=False,\n",
    "    description='Select a csv file'\n",
    ")\n",
    "\n",
    "publish_button = widgets.Button(\n",
    "    description='Publish dataset',\n",
    "    disabled=True,\n",
    "    button_style='', # 'success', 'info', 'warning', 'danger' or ''\n",
    "    tooltip='Click me',\n",
    "    icon='check',\n",
    "    visible=False\n",
    ")"
   ]
  },
  {
   "cell_type": "code",
   "execution_count": 4,
   "metadata": {
    "scrolled": true
   },
   "outputs": [],
   "source": [
    "data = None\n",
    "\n",
    "def on_file_uploaded(input_):\n",
    "    global data\n",
    "    file_content = io.StringIO(upload_widget.data[0].decode())\n",
    "    \n",
    "    has_header = csv.Sniffer().has_header(file_content.read(1024))\n",
    "    file_content.seek(0)\n",
    "    \n",
    "    data = pd.read_csv(file_content, header=0 if has_header else None)\n",
    "    publish_button.visible=True\n",
    "\n",
    "upload_widget.observe(on_file_uploaded, 'data')"
   ]
  },
  {
   "cell_type": "markdown",
   "metadata": {},
   "source": [
    "Please provide select the CSV file you want to upload to OpenML:"
   ]
  },
  {
   "cell_type": "code",
   "execution_count": 5,
   "metadata": {},
   "outputs": [
    {
     "data": {
      "application/vnd.jupyter.widget-view+json": {
       "model_id": "a5a3fdfa86da437e961ebe5117c408e8",
       "version_major": 2,
       "version_minor": 0
      },
      "text/plain": [
       "FileUpload(value={}, accept='.csv', description='Select a csv file')"
      ]
     },
     "metadata": {},
     "output_type": "display_data"
    }
   ],
   "source": [
    "upload_widget"
   ]
  },
  {
   "cell_type": "code",
   "execution_count": 7,
   "metadata": {},
   "outputs": [
    {
     "data": {
      "text/markdown": [
       "The selected file has 150 rows and 5 columns. Below is a preview of the first rows of your csv file."
      ],
      "text/plain": [
       "<IPython.core.display.Markdown object>"
      ]
     },
     "execution_count": 7,
     "metadata": {},
     "output_type": "execute_result"
    }
   ],
   "source": [
    "Markdown(f\"The selected file has {len(data)} rows and {len(data.columns)} columns. \"\n",
    "         \"Below is a preview of the first rows of your csv file.\")"
   ]
  },
  {
   "cell_type": "code",
   "execution_count": 8,
   "metadata": {},
   "outputs": [
    {
     "data": {
      "text/html": [
       "<div>\n",
       "<style scoped>\n",
       "    .dataframe tbody tr th:only-of-type {\n",
       "        vertical-align: middle;\n",
       "    }\n",
       "\n",
       "    .dataframe tbody tr th {\n",
       "        vertical-align: top;\n",
       "    }\n",
       "\n",
       "    .dataframe thead th {\n",
       "        text-align: right;\n",
       "    }\n",
       "</style>\n",
       "<table border=\"1\" class=\"dataframe\">\n",
       "  <thead>\n",
       "    <tr style=\"text-align: right;\">\n",
       "      <th></th>\n",
       "      <th>A</th>\n",
       "      <th>B</th>\n",
       "      <th>C</th>\n",
       "      <th>D</th>\n",
       "      <th>Flower</th>\n",
       "    </tr>\n",
       "  </thead>\n",
       "  <tbody>\n",
       "    <tr>\n",
       "      <th>0</th>\n",
       "      <td>1</td>\n",
       "      <td>3.5</td>\n",
       "      <td>1.4</td>\n",
       "      <td>0.2</td>\n",
       "      <td>Iris-setosa</td>\n",
       "    </tr>\n",
       "    <tr>\n",
       "      <th>1</th>\n",
       "      <td>9</td>\n",
       "      <td>3.0</td>\n",
       "      <td>1.4</td>\n",
       "      <td>0.2</td>\n",
       "      <td>Iris-setosa</td>\n",
       "    </tr>\n",
       "    <tr>\n",
       "      <th>2</th>\n",
       "      <td>7</td>\n",
       "      <td>3.2</td>\n",
       "      <td>1.3</td>\n",
       "      <td>0.2</td>\n",
       "      <td>Iris-setosa</td>\n",
       "    </tr>\n",
       "    <tr>\n",
       "      <th>3</th>\n",
       "      <td>6</td>\n",
       "      <td>3.1</td>\n",
       "      <td>1.5</td>\n",
       "      <td>0.2</td>\n",
       "      <td>Iris-setosa</td>\n",
       "    </tr>\n",
       "    <tr>\n",
       "      <th>4</th>\n",
       "      <td>0</td>\n",
       "      <td>3.6</td>\n",
       "      <td>1.4</td>\n",
       "      <td>0.2</td>\n",
       "      <td>Iris-setosa</td>\n",
       "    </tr>\n",
       "  </tbody>\n",
       "</table>\n",
       "</div>"
      ],
      "text/plain": [
       "   A    B    C    D       Flower\n",
       "0  1  3.5  1.4  0.2  Iris-setosa\n",
       "1  9  3.0  1.4  0.2  Iris-setosa\n",
       "2  7  3.2  1.3  0.2  Iris-setosa\n",
       "3  6  3.1  1.5  0.2  Iris-setosa\n",
       "4  0  3.6  1.4  0.2  Iris-setosa"
      ]
     },
     "execution_count": 8,
     "metadata": {},
     "output_type": "execute_result"
    }
   ],
   "source": [
    "data.head()"
   ]
  },
  {
   "cell_type": "markdown",
   "metadata": {},
   "source": [
    "Next, we are going to run some code to help with data annotation..."
   ]
  },
  {
   "cell_type": "code",
   "execution_count": 46,
   "metadata": {},
   "outputs": [],
   "source": [
    "# infer which variables are categorical\n",
    "MAX_UNIQUE_VALUES = 10\n",
    "for column in data.columns:\n",
    "    if data[column].nunique() <= MAX_UNIQUE_VALUES:\n",
    "        data[column] = data[column].astype('category')"
   ]
  },
  {
   "cell_type": "code",
   "execution_count": 61,
   "metadata": {},
   "outputs": [],
   "source": [
    "def set_column_type_maker(column_widget):\n",
    "    def set_column_type(change):\n",
    "        if change['new'] == 'categorical':\n",
    "            data[column_widget.value] = data[column_widget.value].astype('category')\n",
    "        if change['new'] == 'numeric':\n",
    "            data[column_widget.value] = pd.to_numeric(data[column_widget.value])\n",
    "        if change['new'] == 'string':\n",
    "            data[column_widget.value] = data[column_widget.value].astype('str')\n",
    "    return set_column_type\n",
    "\n",
    "coltype_widgets = []\n",
    "coltype_widgets.append(\n",
    "    widgets.HBox(\n",
    "        [\n",
    "            widgets.Label(\n",
    "                'Column Names',\n",
    "                layout=widgets.Layout(width='300px')),\n",
    "            widgets.Label(\n",
    "                'Column Types',\n",
    "                layout=widgets.Layout(width='300px')),\n",
    "            widgets.Label(\n",
    "                'Example Values',\n",
    "                layout=widgets.Layout(width='300px')),\n",
    "        ])\n",
    ")\n",
    "\n",
    "for i, column in enumerate(data.columns):\n",
    "    column_name_widget = widgets.Text(\n",
    "        value=column,\n",
    "        layout=widgets.Layout(width='300px')\n",
    "    )    \n",
    "    def set_column_name(change):\n",
    "        column_types[change['new']] = column_types[change['old']]\n",
    "        del column_types[change['old']]\n",
    "        data.rename(columns={change['old']: change['new']}, inplace=True)\n",
    "    \n",
    "    column_name_widget.observe(set_column_name, 'value')\n",
    "    \n",
    "    if data[column].dtype.name == 'category':\n",
    "        coltype = 'categorical'\n",
    "    elif np.issubdtype(data[column].dtype, np.number):\n",
    "        coltype = 'numeric'\n",
    "    else:\n",
    "        coltype = 'string'\n",
    "    \n",
    "    column_type_widget = widgets.Dropdown(\n",
    "        options=['numeric', 'string', 'categorical'],\n",
    "        value=coltype,\n",
    "        layout=widgets.Layout(width='300px')\n",
    "    )    \n",
    "    set_column_type = set_column_type_maker(column_name_widget)    \n",
    "    column_type_widget.observe(set_column_type, 'value')\n",
    "    \n",
    "    example_values_widget = widgets.Text(\n",
    "        value=', '.join([str(v) for v in data[column].head().values]),\n",
    "        layout=widgets.Layout(width='300px')\n",
    "    )    \n",
    "    \n",
    "    coltype_widgets.append(\n",
    "        widgets.HBox(\n",
    "        [\n",
    "            column_name_widget,\n",
    "            column_type_widget,\n",
    "            example_values_widget\n",
    "        ])\n",
    "    )    "
   ]
  },
  {
   "cell_type": "markdown",
   "metadata": {},
   "source": [
    "It's crucial for OpenML to know the *type* of data in each column.\n",
    "Each feature should be one of:\n",
    "\n",
    " - A numeric feature. Examples: `car price` or `tree height`\n",
    " - A string (text). Examples: `sales text` or `tree name`\n",
    " - A nominal feature (can only take one of a set of unique values). Examples: `car color` (red, blue, ...) or `evergreen` (yes, no).\n",
    " \n",
    "Based on the data found in our csv file, we inferred the the types for each column.\n",
    "\n",
    "Below you will find a table, in the left column you will find the column names of your data.\n",
    "You can edit the column names directly.\n",
    "\n",
    "The middle column shows the column types.\n",
    "The accepted values here are either `numeric`, `string` or a number of values separated with `', '` (please note the space after the comma).\n",
    "\n",
    "The right column simply shows some values of the column for easy reference.\n",
    "This column should not be edited.\n",
    "\n",
    "Please check that the types are correct, and correct any mistakes."
   ]
  },
  {
   "cell_type": "code",
   "execution_count": 65,
   "metadata": {
    "scrolled": false
   },
   "outputs": [
    {
     "data": {
      "application/vnd.jupyter.widget-view+json": {
       "model_id": "984e52e988b5418080b21ba213c4475b",
       "version_major": 2,
       "version_minor": 0
      },
      "text/plain": [
       "VBox(children=(HBox(children=(Label(value='Column Names', layout=Layout(width='300px')), Label(value='Column T…"
      ]
     },
     "metadata": {},
     "output_type": "display_data"
    }
   ],
   "source": [
    "widgets.VBox(coltype_widgets)"
   ]
  },
  {
   "cell_type": "markdown",
   "metadata": {},
   "source": [
    "Double-check that the data, column names and data types look correct (if not, retrace steps above):"
   ]
  },
  {
   "cell_type": "code",
   "execution_count": 68,
   "metadata": {},
   "outputs": [
    {
     "data": {
      "text/html": [
       "<div>\n",
       "<style scoped>\n",
       "    .dataframe tbody tr th:only-of-type {\n",
       "        vertical-align: middle;\n",
       "    }\n",
       "\n",
       "    .dataframe tbody tr th {\n",
       "        vertical-align: top;\n",
       "    }\n",
       "\n",
       "    .dataframe thead th {\n",
       "        text-align: right;\n",
       "    }\n",
       "</style>\n",
       "<table border=\"1\" class=\"dataframe\">\n",
       "  <thead>\n",
       "    <tr style=\"text-align: right;\">\n",
       "      <th></th>\n",
       "      <th>Actually</th>\n",
       "      <th>Bees</th>\n",
       "      <th>Cover</th>\n",
       "      <th>Droves</th>\n",
       "      <th>Flower</th>\n",
       "    </tr>\n",
       "  </thead>\n",
       "  <tbody>\n",
       "    <tr>\n",
       "      <th>0</th>\n",
       "      <td>1</td>\n",
       "      <td>3.5</td>\n",
       "      <td>1.4</td>\n",
       "      <td>0.2</td>\n",
       "      <td>Iris-setosa</td>\n",
       "    </tr>\n",
       "    <tr>\n",
       "      <th>1</th>\n",
       "      <td>9</td>\n",
       "      <td>3.0</td>\n",
       "      <td>1.4</td>\n",
       "      <td>0.2</td>\n",
       "      <td>Iris-setosa</td>\n",
       "    </tr>\n",
       "    <tr>\n",
       "      <th>2</th>\n",
       "      <td>7</td>\n",
       "      <td>3.2</td>\n",
       "      <td>1.3</td>\n",
       "      <td>0.2</td>\n",
       "      <td>Iris-setosa</td>\n",
       "    </tr>\n",
       "    <tr>\n",
       "      <th>3</th>\n",
       "      <td>6</td>\n",
       "      <td>3.1</td>\n",
       "      <td>1.5</td>\n",
       "      <td>0.2</td>\n",
       "      <td>Iris-setosa</td>\n",
       "    </tr>\n",
       "    <tr>\n",
       "      <th>4</th>\n",
       "      <td>0</td>\n",
       "      <td>3.6</td>\n",
       "      <td>1.4</td>\n",
       "      <td>0.2</td>\n",
       "      <td>Iris-setosa</td>\n",
       "    </tr>\n",
       "  </tbody>\n",
       "</table>\n",
       "</div>"
      ],
      "text/plain": [
       "  Actually  Bees  Cover  Droves       Flower\n",
       "0        1   3.5    1.4     0.2  Iris-setosa\n",
       "1        9   3.0    1.4     0.2  Iris-setosa\n",
       "2        7   3.2    1.3     0.2  Iris-setosa\n",
       "3        6   3.1    1.5     0.2  Iris-setosa\n",
       "4        0   3.6    1.4     0.2  Iris-setosa"
      ]
     },
     "metadata": {},
     "output_type": "display_data"
    },
    {
     "data": {
      "text/plain": [
       "Actually    category\n",
       "Bees         float64\n",
       "Cover        float64\n",
       "Droves       float64\n",
       "Flower      category\n",
       "dtype: object"
      ]
     },
     "metadata": {},
     "output_type": "display_data"
    }
   ],
   "source": [
    "display(data.head())\n",
    "display(data.dtypes)"
   ]
  },
  {
   "cell_type": "markdown",
   "metadata": {},
   "source": [
    "## Meta-data"
   ]
  },
  {
   "cell_type": "markdown",
   "metadata": {},
   "source": [
    "Great! Now we just need some meta-data such as a name and description.\n",
    "This meta-data makes it easier for others to find and understand your dataset."
   ]
  },
  {
   "cell_type": "code",
   "execution_count": 26,
   "metadata": {
    "scrolled": false
   },
   "outputs": [
    {
     "data": {
      "application/vnd.jupyter.widget-view+json": {
       "model_id": "b7a263b37bc749d58029173f10f67570",
       "version_major": 2,
       "version_minor": 0
      },
      "text/plain": [
       "VBox(children=(Text(value='', description='Name', layout=Layout(width='900px'), placeholder='Name of the datas…"
      ]
     },
     "metadata": {},
     "output_type": "display_data"
    }
   ],
   "source": [
    "def create_widget(label: str, long_description: str, type_, layout_args=dict(width='900px')):\n",
    "    return type_(\n",
    "        placeholder=long_description,\n",
    "        description=label,\n",
    "        layout=widgets.Layout(**layout_args)\n",
    "    )\n",
    "\n",
    "\n",
    "name_widget = create_widget('Name', 'Name of the dataset', widgets.Text)\n",
    "\n",
    "desc_long =(\n",
    "    'A description of the dataset. '\n",
    "    'Include for example:\\n'\n",
    "    ' - What is the domain of this dataset?\\n'\n",
    "    ' - How was the dataset gathered?\\n'\n",
    "    ' - What is the meaning of each feature?'\n",
    ")\n",
    "description_widget = create_widget(\n",
    "    'Description', desc_long, widgets.Textarea,\n",
    "    dict(width='900px', height='120px')\n",
    ")\n",
    "\n",
    "collection_date_widget = create_widget('Collection Date', 'Date data was originally collected', widgets.DatePicker)\n",
    "creator_widget = create_widget('Creator(s)', 'Original creator(s) of the dataset', widgets.Text)\n",
    "contributor_widget = create_widget('Contributor(s)', 'People who further contributed to the dataset (e.g. formatting)', widgets.Text)\n",
    "dataset_url_widget  = create_widget('Data URL', 'URL to the dataset if it is also hosted elsewhere', widgets.Text)\n",
    "paper_url_widget =  create_widget('Paper URL', 'URL to the paper which introduced the dataset', widgets.Text)\n",
    "citation_widget = create_widget('Citation', 'Citation for inclusion in a bibliography', widgets.Text)\n",
    "# https://help.data.world/hc/en-us/articles/115006114287-Common-license-types-for-datasets\n",
    "licence_widget = create_widget('Licence', 'Licence of the dataset, e.g. Public Domain, CC0, CC BY-NC', widgets.Text)\n",
    "language_widget = create_widget('Language(s)', 'Language(s) in which the data is represented.', widgets.Text)\n",
    "\n",
    "widgets.VBox([\n",
    "    name_widget, description_widget, creator_widget, contributor_widget, collection_date_widget,\n",
    "    dataset_url_widget, paper_url_widget, citation_widget, licence_widget, language_widget\n",
    "])\n"
   ]
  },
  {
   "cell_type": "markdown",
   "metadata": {},
   "source": [
    "## Uploading to OpenML"
   ]
  },
  {
   "cell_type": "code",
   "execution_count": 44,
   "metadata": {},
   "outputs": [
    {
     "ename": "TypeError",
     "evalue": "create_dataset() missing 2 required positional arguments: 'default_target_attribute' and 'ignore_attribute'",
     "output_type": "error",
     "traceback": [
      "\u001b[1;31m---------------------------------------------------------------------------\u001b[0m",
      "\u001b[1;31mTypeError\u001b[0m                                 Traceback (most recent call last)",
      "\u001b[1;32m<ipython-input-44-caf4593368bc>\u001b[0m in \u001b[0;36m<module>\u001b[1;34m\u001b[0m\n\u001b[0;32m     16\u001b[0m     \u001b[1;31m#version_label\u001b[0m\u001b[1;33m\u001b[0m\u001b[1;33m\u001b[0m\u001b[1;33m\u001b[0m\u001b[0m\n\u001b[0;32m     17\u001b[0m     \u001b[0moriginal_data_url\u001b[0m\u001b[1;33m=\u001b[0m\u001b[0mdataset_url_widget\u001b[0m\u001b[1;33m.\u001b[0m\u001b[0mvalue\u001b[0m\u001b[1;33m,\u001b[0m\u001b[1;33m\u001b[0m\u001b[1;33m\u001b[0m\u001b[0m\n\u001b[1;32m---> 18\u001b[1;33m     \u001b[0mpaper_url\u001b[0m\u001b[1;33m=\u001b[0m\u001b[0mpaper_url_widget\u001b[0m\u001b[1;33m.\u001b[0m\u001b[0mvalue\u001b[0m\u001b[1;33m\u001b[0m\u001b[1;33m\u001b[0m\u001b[0m\n\u001b[0m\u001b[0;32m     19\u001b[0m )\n",
      "\u001b[1;31mTypeError\u001b[0m: create_dataset() missing 2 required positional arguments: 'default_target_attribute' and 'ignore_attribute'"
     ]
    }
   ],
   "source": [
    "from openml.datasets.functions import create_dataset\n",
    "\n",
    "oml_dataset = create_dataset(\n",
    "    name=name_widget.value,\n",
    "    description=description_widget.value,\n",
    "    creator=creator_widget.value,\n",
    "    contributor=contributor_widget.value,\n",
    "    collection_date=collection_date_widget.value.strftime(\"%d-%m-%Y\"),\n",
    "    language=language_widget.value,\n",
    "    licence=licence_widget.value,\n",
    "    #default_target_attribute\n",
    "    #row_id_attribute\n",
    "    citation=citation_widget.value,\n",
    "    attributes='auto',\n",
    "    data=data,\n",
    "    #version_label\n",
    "    original_data_url=dataset_url_widget.value,\n",
    "    paper_url=paper_url_widget.value\n",
    ")"
   ]
  },
  {
   "cell_type": "code",
   "execution_count": null,
   "metadata": {},
   "outputs": [],
   "source": [
    "openml.config.start_using_configuration_for_example()"
   ]
  },
  {
   "cell_type": "code",
   "execution_count": null,
   "metadata": {},
   "outputs": [],
   "source": [
    "# openml.config.apikey = ''"
   ]
  },
  {
   "cell_type": "code",
   "execution_count": null,
   "metadata": {},
   "outputs": [],
   "source": [
    "# retrieve data: name_widget.value"
   ]
  },
  {
   "cell_type": "code",
   "execution_count": null,
   "metadata": {},
   "outputs": [],
   "source": [
    "if openml.config.apikey == '':\n",
    "    key_text = widgets.Output()    \n",
    "    need_api_key_text = \"\"\"    \n",
    "    We noticed you have not configured an API key for OpenML yet.\n",
    "    To find your API key, log in on the [OpenML website](https://openml.org) ([register](https://www.openml.org/register) if needed)\n",
    "    , go to your account page (click the avatar image on the top right) and click \"API Authentication\".\n",
    "    \"\"\"\n",
    "    with key_text:\n",
    "        display(Markdown(need_api_key_text))\n",
    "\n",
    "    def set_openml_apikey(key):\n",
    "        openml.config.apikey = key\n",
    "        if re.fullmatch('[a-f0-9]{32}', key):\n",
    "            text_and_input.close()\n",
    "            publish_button.disabled = False\n",
    "\n",
    "    key_input = interactive(set_openml_apikey, key='')\n",
    "    key_input.kwargs_widgets[0].description = 'API Key:'\n",
    "\n",
    "    text_and_input = widgets.VBox([key_text, key_input])\n",
    "    # show 'need_api_key_text'\n",
    "    display(text_and_input)\n",
    "display(publish_button)"
   ]
  },
  {
   "cell_type": "code",
   "execution_count": null,
   "metadata": {},
   "outputs": [],
   "source": []
  }
 ],
 "metadata": {
  "kernelspec": {
   "display_name": "Python 3",
   "language": "python",
   "name": "python3"
  },
  "language_info": {
   "codemirror_mode": {
    "name": "ipython",
    "version": 3
   },
   "file_extension": ".py",
   "mimetype": "text/x-python",
   "name": "python",
   "nbconvert_exporter": "python",
   "pygments_lexer": "ipython3",
   "version": "3.6.9"
  }
 },
 "nbformat": 4,
 "nbformat_minor": 2
}
