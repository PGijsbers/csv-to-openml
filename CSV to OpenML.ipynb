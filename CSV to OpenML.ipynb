{
 "cells": [
  {
   "cell_type": "markdown",
   "metadata": {},
   "source": [
    "<div style='margin: auto; width: 80%;'><h1 style='font-size: 55px; display: inline-block'>CSV to OpenML Helper</h1> <img style=\"float: left; height:80px; margin-right:10px;\" src=\"https://raw.githubusercontent.com/PGijsbers/Talks/master/odsc/images/openml/dots.png\"></div> <i class=\"fas fa-file-csv\"></i>"
   ]
  },
  {
   "cell_type": "markdown",
   "metadata": {},
   "source": [
    "This notebook helps you upload a csv-file to OpenML.\n",
    "To use this notebook, run it cell-by-cell.\n",
    "Whenever the text prompts you to do something, do that before continuing in the notebook.\n",
    "\n",
    "If you experience issues using this notebook, or have further questions, please [click here](https://github.com/PGijsbers/csv-to-openml/issues/new) to open an issue on Github."
   ]
  },
  {
   "cell_type": "code",
   "execution_count": 1,
   "metadata": {},
   "outputs": [],
   "source": [
    "from __future__ import print_function\n",
    "from ipywidgets import interact, interactive, fixed, interact_manual\n",
    "import ipywidgets as widgets\n",
    "from IPython.display import Markdown\n",
    "\n",
    "import csv\n",
    "import io\n",
    "import re\n",
    "import numpy as np\n",
    "import openml\n",
    "import pandas as pd"
   ]
  },
  {
   "cell_type": "code",
   "execution_count": 2,
   "metadata": {},
   "outputs": [],
   "source": [
    "# UI components that will be rendered in this notebook:\n",
    "upload_widget = widgets.FileUpload(\n",
    "    accept='.csv',\n",
    "    multiple=False,\n",
    "    description='Select a csv file'\n",
    ")\n",
    "\n",
    "publish_button = widgets.Button(\n",
    "    description='Publish dataset',\n",
    "    disabled=True,\n",
    "    button_style='', # 'success', 'info', 'warning', 'danger' or ''\n",
    "    tooltip='Click me',\n",
    "    icon='check',\n",
    "    visible=False\n",
    ")"
   ]
  },
  {
   "cell_type": "code",
   "execution_count": 3,
   "metadata": {
    "scrolled": true
   },
   "outputs": [],
   "source": [
    "data = None\n",
    "\n",
    "def on_file_uploaded(input_):\n",
    "    global data\n",
    "    file_content = io.StringIO(upload_widget.data[0].decode())\n",
    "    \n",
    "    has_header = csv.Sniffer().has_header(file_content.read(1024))\n",
    "    file_content.seek(0)\n",
    "    \n",
    "    data = pd.read_csv(file_content, header=0 if has_header else None)\n",
    "    publish_button.visible=True\n",
    "\n",
    "upload_widget.observe(on_file_uploaded, 'data')"
   ]
  },
  {
   "cell_type": "markdown",
   "metadata": {},
   "source": [
    "Please provide select the CSV file you want to upload to OpenML:"
   ]
  },
  {
   "cell_type": "code",
   "execution_count": 4,
   "metadata": {},
   "outputs": [
    {
     "data": {
      "application/vnd.jupyter.widget-view+json": {
       "model_id": "cb984ccbeeba4c56939f96243757be24",
       "version_major": 2,
       "version_minor": 0
      },
      "text/plain": [
       "FileUpload(value={}, accept='.csv', description='Select a csv file')"
      ]
     },
     "metadata": {},
     "output_type": "display_data"
    }
   ],
   "source": [
    "upload_widget"
   ]
  },
  {
   "cell_type": "code",
   "execution_count": 5,
   "metadata": {},
   "outputs": [],
   "source": [
    "# If no header is provided, column names are integer, which is inconvenient later, change to str;\n",
    "data.columns = data.columns.astype(str)"
   ]
  },
  {
   "cell_type": "code",
   "execution_count": 6,
   "metadata": {},
   "outputs": [
    {
     "data": {
      "text/markdown": [
       "The selected file has 150 rows and 5 columns. Below is a preview of the first rows of your csv file."
      ],
      "text/plain": [
       "<IPython.core.display.Markdown object>"
      ]
     },
     "execution_count": 6,
     "metadata": {},
     "output_type": "execute_result"
    }
   ],
   "source": [
    "Markdown(f\"The selected file has {len(data)} rows and {len(data.columns)} columns. \"\n",
    "         \"Below is a preview of the first rows of your csv file.\")"
   ]
  },
  {
   "cell_type": "code",
   "execution_count": 7,
   "metadata": {},
   "outputs": [
    {
     "data": {
      "text/html": [
       "<div>\n",
       "<style scoped>\n",
       "    .dataframe tbody tr th:only-of-type {\n",
       "        vertical-align: middle;\n",
       "    }\n",
       "\n",
       "    .dataframe tbody tr th {\n",
       "        vertical-align: top;\n",
       "    }\n",
       "\n",
       "    .dataframe thead th {\n",
       "        text-align: right;\n",
       "    }\n",
       "</style>\n",
       "<table border=\"1\" class=\"dataframe\">\n",
       "  <thead>\n",
       "    <tr style=\"text-align: right;\">\n",
       "      <th></th>\n",
       "      <th>A</th>\n",
       "      <th>B</th>\n",
       "      <th>C</th>\n",
       "      <th>D</th>\n",
       "      <th>Flower</th>\n",
       "    </tr>\n",
       "  </thead>\n",
       "  <tbody>\n",
       "    <tr>\n",
       "      <th>0</th>\n",
       "      <td>1</td>\n",
       "      <td>3.5</td>\n",
       "      <td>1.4</td>\n",
       "      <td>0.2</td>\n",
       "      <td>Iris-setosa</td>\n",
       "    </tr>\n",
       "    <tr>\n",
       "      <th>1</th>\n",
       "      <td>9</td>\n",
       "      <td>3.0</td>\n",
       "      <td>1.4</td>\n",
       "      <td>0.2</td>\n",
       "      <td>Iris-setosa</td>\n",
       "    </tr>\n",
       "    <tr>\n",
       "      <th>2</th>\n",
       "      <td>7</td>\n",
       "      <td>3.2</td>\n",
       "      <td>1.3</td>\n",
       "      <td>0.2</td>\n",
       "      <td>Iris-setosa</td>\n",
       "    </tr>\n",
       "    <tr>\n",
       "      <th>3</th>\n",
       "      <td>6</td>\n",
       "      <td>3.1</td>\n",
       "      <td>1.5</td>\n",
       "      <td>0.2</td>\n",
       "      <td>Iris-setosa</td>\n",
       "    </tr>\n",
       "    <tr>\n",
       "      <th>4</th>\n",
       "      <td>0</td>\n",
       "      <td>3.6</td>\n",
       "      <td>1.4</td>\n",
       "      <td>0.2</td>\n",
       "      <td>Iris-setosa</td>\n",
       "    </tr>\n",
       "  </tbody>\n",
       "</table>\n",
       "</div>"
      ],
      "text/plain": [
       "   A    B    C    D       Flower\n",
       "0  1  3.5  1.4  0.2  Iris-setosa\n",
       "1  9  3.0  1.4  0.2  Iris-setosa\n",
       "2  7  3.2  1.3  0.2  Iris-setosa\n",
       "3  6  3.1  1.5  0.2  Iris-setosa\n",
       "4  0  3.6  1.4  0.2  Iris-setosa"
      ]
     },
     "execution_count": 7,
     "metadata": {},
     "output_type": "execute_result"
    }
   ],
   "source": [
    "data.head()"
   ]
  },
  {
   "cell_type": "markdown",
   "metadata": {},
   "source": [
    "Next, we are going to run some code to help with data annotation..."
   ]
  },
  {
   "cell_type": "code",
   "execution_count": 8,
   "metadata": {},
   "outputs": [],
   "source": [
    "# infer which variables are categorical\n",
    "MAX_UNIQUE_VALUES = 10\n",
    "for column in data.columns:\n",
    "    if data[column].nunique() <= MAX_UNIQUE_VALUES:\n",
    "        data[column] = data[column].astype('category')"
   ]
  },
  {
   "cell_type": "code",
   "execution_count": 9,
   "metadata": {},
   "outputs": [],
   "source": [
    "ignore_columns = {}\n",
    "id_column = []\n",
    "id_radio_buttons = []\n",
    "target_column = []\n",
    "target_radio_buttons = []\n",
    "\n",
    "def set_ignore_column_maker(column_widget):\n",
    "    def ignore_column(change):\n",
    "        if change['new']:  # Checkbox is set to True.\n",
    "            ignore_columns[column_widget.value] = True\n",
    "        else:\n",
    "            ignore_columns[column_widget.value] = False\n",
    "    return ignore_column\n",
    "\n",
    "def set_id_column_maker(column_widget):\n",
    "    def set_id_column(change):\n",
    "        if change['new'] == '':\n",
    "            id_column[:] = [column_widget.value]\n",
    "            for radio_button in id_radio_buttons:\n",
    "                if change['owner'] != radio_button:\n",
    "                    radio_button.value = None\n",
    "    return set_id_column\n",
    "\n",
    "def set_target_column_maker(column_widget):\n",
    "    def set_target_column(change):\n",
    "        if change['new'] == '':\n",
    "            target_column[:] = [column_widget.value]\n",
    "            for radio_button in target_radio_buttons:\n",
    "                if change['owner'] != radio_button:\n",
    "                    radio_button.value = None\n",
    "    return set_target_column\n",
    "\n",
    "def set_column_type_maker(column_widget):\n",
    "    def set_column_type(change):\n",
    "        if change['new'] == 'categorical':\n",
    "            data[column_widget.value] = data[column_widget.value].astype('category')\n",
    "        if change['new'] == 'numeric':\n",
    "            data[column_widget.value] = pd.to_numeric(data[column_widget.value])\n",
    "        if change['new'] == 'string':\n",
    "            data[column_widget.value] = data[column_widget.value].astype('str')\n",
    "    return set_column_type\n",
    "\n",
    "w_col_name, w_col_type, w_col_examples, w_ignore, w_id = '200px', '150px', '300px', '60px', '40px'\n",
    "\n",
    "coltype_widgets = []\n",
    "coltype_widgets.append(\n",
    "    widgets.HBox(\n",
    "        [\n",
    "            widgets.Label(\n",
    "                'Column Names',\n",
    "                layout=widgets.Layout(width=w_col_name)),\n",
    "            widgets.Label(\n",
    "                'Column Types',\n",
    "                layout=widgets.Layout(width=w_col_type)),\n",
    "            widgets.Label(\n",
    "                'Example Values',\n",
    "                layout=widgets.Layout(width=w_col_examples)),\n",
    "            widgets.Label(\n",
    "                'Ignore',\n",
    "                layout=widgets.Layout(width=w_ignore)),\n",
    "            widgets.Label(\n",
    "                'ID',\n",
    "                layout=widgets.Layout(width=w_id)),\n",
    "            widgets.Label(\n",
    "                'Target',\n",
    "                layout=widgets.Layout(width=w_ignore)),\n",
    "        ])\n",
    ")\n",
    "\n",
    "for i, column in enumerate(data.columns):\n",
    "    column_name_widget = widgets.Text(\n",
    "        value=column,\n",
    "        layout=widgets.Layout(width=w_col_name)\n",
    "    )    \n",
    "    def set_column_name(change):        \n",
    "        data.rename(columns={change['old']: change['new']}, inplace=True)\n",
    "        # Update Ignore dict and ID field to refer to the new column name\n",
    "        if change['old'] in ignore_columns:\n",
    "            ignore_columns[change['new']] = ignore_columns[change['old']]\n",
    "            del ignore_columns[change['old']]\n",
    "        if change['old'] in id_column:\n",
    "            id_column[:] = [change['new']]\n",
    "        if change['old'] in target_column:\n",
    "            target_column[:] = [change['new']]\n",
    "    \n",
    "    column_name_widget.observe(set_column_name, 'value')\n",
    "    \n",
    "    if data[column].dtype.name == 'category':\n",
    "        coltype = 'categorical'\n",
    "    elif np.issubdtype(data[column].dtype, np.number):\n",
    "        coltype = 'numeric'\n",
    "    else:\n",
    "        coltype = 'string'\n",
    "    \n",
    "    column_type_widget = widgets.Dropdown(\n",
    "        options=['numeric', 'string', 'categorical'],\n",
    "        value=coltype,\n",
    "        layout=widgets.Layout(width=w_col_type)\n",
    "    )    \n",
    "    set_column_type = set_column_type_maker(column_name_widget)    \n",
    "    column_type_widget.observe(set_column_type, 'value')\n",
    "    \n",
    "    example_values_widget = widgets.Text(\n",
    "        value=', '.join([str(v) for v in data[column].head().values]),\n",
    "        layout=widgets.Layout(width=w_col_examples)\n",
    "    )    \n",
    "\n",
    "    ignore_widget = widgets.Checkbox(value=False, \n",
    "                                     layout=widgets.Layout(width=w_ignore), \n",
    "                                     style={'description_width':'0px'})\n",
    "    set_ignore_column = set_ignore_column_maker(column_name_widget)\n",
    "    ignore_widget.observe(set_ignore_column, 'value')\n",
    "    \n",
    "    id_widget = widgets.RadioButtons(options=[''],\n",
    "                                     value=None,\n",
    "                                     layout=widgets.Layout(width=w_id), \n",
    "                                     style={'description_width':'0px'})\n",
    "    set_id_column = set_id_column_maker(column_name_widget)\n",
    "    id_widget.observe(set_id_column, 'value')\n",
    "    id_radio_buttons.append(id_widget)\n",
    "    \n",
    "    target_widget = widgets.RadioButtons(options=[''],\n",
    "                                 value=None,\n",
    "                                 layout=widgets.Layout(width=w_id), \n",
    "                                 style={'description_width':'0px'})\n",
    "    set_target_column = set_target_column_maker(column_name_widget)\n",
    "    target_widget.observe(set_target_column, 'value')\n",
    "    target_radio_buttons.append(target_widget)\n",
    "    \n",
    "    coltype_widgets.append(\n",
    "        widgets.HBox(\n",
    "        [\n",
    "            column_name_widget,\n",
    "            column_type_widget,\n",
    "            example_values_widget,\n",
    "            ignore_widget,\n",
    "            id_widget,\n",
    "            target_widget\n",
    "        ])\n",
    "    )    "
   ]
  },
  {
   "cell_type": "markdown",
   "metadata": {},
   "source": [
    "OpenML wants to capture some rich meta-data about uploaded datasets, so that other users and programs may make better use of the datasets.\n",
    "\n",
    "It's crucial for OpenML to know the *type* of data in each column.\n",
    "Each feature should be one of:\n",
    "\n",
    " - A numeric feature. Examples: `car price` or `tree height`\n",
    " - A string (text). Examples: `sales text` or `tree name`\n",
    " - A categorical feature (can only take one of a set of unique values). Examples: `car color` (red, blue, ...) or `evergreen` (yes, no).\n",
    " \n",
    "Based on the data found in our csv file, we inferred the the types for each column.\n",
    "Below you will find a table which allows you to add or edit any of the feature meta-data OpenML accepts:\n",
    "\n",
    "In the **'Column Names'** column you will find the column names of your data.\n",
    "You can edit the column names directly.\n",
    "\n",
    "The **'Column Types'** column shows the column types as described above, as inferred from the data.\n",
    "If the column type is not correct, please select the correct option from the dropdown menu.\n",
    "\n",
    "The **'Example Values'** column simply shows some values of the column for easy reference.\n",
    "This column should not be edited (editing it has no effect).\n",
    "\n",
    "In the **'Ignore'** column, you can select the columns which should be ignored when creating models (e.g. identifiers or indexes).\n",
    "If no such column exists in the dataset, this column may be ignored.\n",
    "\n",
    "In the **'ID'** column you can select the column that contains row ids, if such a column is present.\n",
    "If no row id column is present in the dataset, this column may be ignored.\n",
    "\n",
    "\n",
    "Please check that the names and types are correct, complete the 'Ignore' and 'ID' columns"
   ]
  },
  {
   "cell_type": "code",
   "execution_count": 10,
   "metadata": {
    "scrolled": false
   },
   "outputs": [
    {
     "data": {
      "application/vnd.jupyter.widget-view+json": {
       "model_id": "730f2e272c42448b9257fea2131e8506",
       "version_major": 2,
       "version_minor": 0
      },
      "text/plain": [
       "VBox(children=(HBox(children=(Label(value='Column Names', layout=Layout(width='200px')), Label(value='Column T…"
      ]
     },
     "metadata": {},
     "output_type": "display_data"
    }
   ],
   "source": [
    "widgets.VBox(coltype_widgets)"
   ]
  },
  {
   "cell_type": "markdown",
   "metadata": {},
   "source": [
    "Before you continue, double-check that the data, column names and data types look correct (if not, retrace steps above). \n",
    "\n",
    "*If you accidentally selected an ID or Target column but there should be none, please rerun the large code cell before the previous markdown segment as well as the `widgets.VBox(coltype_widgets)` cell. This will erase the Ignore, ID and Target data (but not names and types).*"
   ]
  },
  {
   "cell_type": "markdown",
   "metadata": {},
   "source": [
    "## Meta-data"
   ]
  },
  {
   "cell_type": "markdown",
   "metadata": {},
   "source": [
    "Thanks for bearing with us! All this extra information is going to make sure the dataset is easier for others to find and understand. There's just a few more things we'd like to know:"
   ]
  },
  {
   "cell_type": "code",
   "execution_count": 11,
   "metadata": {
    "scrolled": false
   },
   "outputs": [
    {
     "data": {
      "application/vnd.jupyter.widget-view+json": {
       "model_id": "1d0abcb5f90142b79b13d2f08004df00",
       "version_major": 2,
       "version_minor": 0
      },
      "text/plain": [
       "VBox(children=(Text(value='', description='Name', layout=Layout(width='900px'), placeholder='Name of the datas…"
      ]
     },
     "metadata": {},
     "output_type": "display_data"
    }
   ],
   "source": [
    "def create_widget(label: str, long_description: str, type_, layout_args=dict(width='900px')):\n",
    "    return type_(\n",
    "        value=None,\n",
    "        placeholder=long_description,\n",
    "        description=label,\n",
    "        long_description=long_description,\n",
    "        layout=widgets.Layout(**layout_args)\n",
    "    )\n",
    "\n",
    "\n",
    "name_widget = create_widget('Name', 'Name of the dataset', widgets.Text)\n",
    "\n",
    "desc_long =(\n",
    "    'A description of the dataset. '\n",
    "    'Include for example:\\n'\n",
    "    ' - What is the domain of this dataset?\\n'\n",
    "    ' - How was the dataset gathered?\\n'\n",
    "    ' - What is the meaning of each feature?'\n",
    ")\n",
    "description_widget = create_widget(\n",
    "    'Description', desc_long, widgets.Textarea,\n",
    "    dict(width='900px', height='120px')\n",
    ")\n",
    "\n",
    "collection_date_widget = create_widget('Collection Date', 'Date data was originally collected', widgets.DatePicker)\n",
    "creator_widget = create_widget('Creator(s)', 'Original creator(s) of the dataset', widgets.Text)\n",
    "contributor_widget = create_widget('Contributor(s)', 'People who further contributed to the dataset (e.g. formatting)', widgets.Text)\n",
    "dataset_url_widget  = create_widget('Data URL', 'URL to the dataset if it is also hosted elsewhere', widgets.Text)\n",
    "paper_url_widget =  create_widget('Paper URL', 'URL to the paper which introduced the dataset', widgets.Text)\n",
    "citation_widget = create_widget('Citation', 'Citation for inclusion in a bibliography', widgets.Text)\n",
    "# https://help.data.world/hc/en-us/articles/115006114287-Common-license-types-for-datasets\n",
    "licence_widget = create_widget('Licence', 'Licence of the dataset, e.g. Public Domain, CC0, CC BY-NC', widgets.Text)\n",
    "language_widget = create_widget('Language(s)', 'Language(s) in which the data is represented.', widgets.Text)\n",
    "\n",
    "widgets.VBox([\n",
    "    name_widget, description_widget, creator_widget, contributor_widget, collection_date_widget,\n",
    "    dataset_url_widget, paper_url_widget, citation_widget, licence_widget, language_widget\n",
    "])\n"
   ]
  },
  {
   "cell_type": "markdown",
   "metadata": {},
   "source": [
    "## Uploading to OpenML\n",
    "The following few code cells process your input and format the data for uploading."
   ]
  },
  {
   "cell_type": "code",
   "execution_count": 12,
   "metadata": {},
   "outputs": [
    {
     "name": "stderr",
     "output_type": "stream",
     "text": [
      "c:\\users\\s105307\\programs\\continuum\\anaconda3\\envs\\csvtooml\\lib\\site-packages\\openml\\datasets\\functions.py:682: FutureWarning: A future version of pandas will default to `skipna=True`. To silence this warning, pass `skipna=True|False` explicitly.\n",
      "  attributes_ = attributes_arff_from_df(data)\n"
     ]
    }
   ],
   "source": [
    "from openml.datasets.functions import create_dataset\n",
    "\n",
    "id_ = id_column[0]\n",
    "target = target_column[0] == ''\n",
    "ignore_ = [col for col, ignore in ignore_columns.items() if ignore]\n",
    "collection_date = None if collection_date_widget.value is None else collection_date_widget.value.strftime(\"%d-%m-%Y\")\n",
    "\n",
    "for column in data.columns:\n",
    "    if data[column].dtype.name == 'category':\n",
    "        # OpenML Python requires categorical values to be strings.\n",
    "        data[column] = data[column].astype(str).astype('category')\n",
    "\n",
    "oml_dataset = create_dataset(\n",
    "    name=name_widget.value,\n",
    "    description=description_widget.value,\n",
    "    creator=creator_widget.value or None,\n",
    "    contributor=contributor_widget.value or None,\n",
    "    collection_date=collection_date,\n",
    "    language=language_widget.value  or None,\n",
    "    licence=licence_widget.value  or None,\n",
    "    default_target_attribute=target or None,\n",
    "    row_id_attribute=id_ or None,\n",
    "    citation=citation_widget.value or None,\n",
    "    ignore_attribute=ignore_ or None,\n",
    "    attributes='auto',\n",
    "    data=data,\n",
    "    #version_label\n",
    "    original_data_url=dataset_url_widget.value or None,\n",
    "    paper_url=paper_url_widget.value or None\n",
    ")"
   ]
  },
  {
   "cell_type": "code",
   "execution_count": 13,
   "metadata": {},
   "outputs": [],
   "source": [
    "# Cell for testing\n",
    "# openml.config.start_using_configuration_for_example()\n",
    "# openml.config.apikey = ''"
   ]
  },
  {
   "cell_type": "code",
   "execution_count": 14,
   "metadata": {},
   "outputs": [],
   "source": [
    "def publish(_):\n",
    "    oml_dataset.publish()\n",
    "    display(oml_dataset)\n",
    "    publish_button.disabled = True\n",
    "    publish_button.description = 'Published!'\n",
    "\n",
    "publish_button.on_click(publish)"
   ]
  },
  {
   "cell_type": "code",
   "execution_count": 15,
   "metadata": {},
   "outputs": [],
   "source": [
    "text_and_input = None\n",
    "if openml.config.apikey == '':\n",
    "    key_text = widgets.Output()    \n",
    "    need_api_key_text = \"\"\"    \n",
    "    We noticed you have not configured an API key for OpenML yet.\n",
    "    To find your API key, log in on the [OpenML website](https://openml.org) ([register](https://www.openml.org/register) if needed)\n",
    "    , go to your account page (click the avatar image on the top right) and click \"API Authentication\".\n",
    "    \"\"\"\n",
    "    with key_text:\n",
    "        display(Markdown(need_api_key_text))\n",
    "\n",
    "    def set_openml_apikey(key):\n",
    "        openml.config.apikey = key\n",
    "        if re.fullmatch('[a-f0-9]{32}', key):\n",
    "            text_and_input.close()\n",
    "            publish_button.disabled = False\n",
    "\n",
    "    key_input = interactive(set_openml_apikey, key='')\n",
    "    key_input.kwargs_widgets[0].description = 'API Key:'\n",
    "\n",
    "    text_and_input = widgets.VBox([key_text, key_input])\n",
    "    # show 'need_api_key_text'\n",
    "else:\n",
    "    publish_button.disabled = False"
   ]
  },
  {
   "cell_type": "markdown",
   "metadata": {},
   "source": [
    "Below the following the following cell you should find the button which allows you to publish to OpenML!\n",
    "In case your authentication is not (correcty) configured, follow the instructions to enable the button."
   ]
  },
  {
   "cell_type": "code",
   "execution_count": 16,
   "metadata": {},
   "outputs": [
    {
     "data": {
      "application/vnd.jupyter.widget-view+json": {
       "model_id": "783ba946a6ce426aaf9d1e9a3686f6f9",
       "version_major": 2,
       "version_minor": 0
      },
      "text/plain": [
       "Button(description='Publish dataset', icon='check', style=ButtonStyle(), tooltip='Click me')"
      ]
     },
     "metadata": {},
     "output_type": "display_data"
    },
    {
     "data": {
      "text/plain": [
       "OpenML Dataset\n",
       "==============\n",
       "Name.........: Iris-Test3\n",
       "Version......: None\n",
       "Format.......: arff\n",
       "Licence......: None\n",
       "Download URL.: None\n",
       "OpenML URL...: https://www.openml.org/d/18939\n",
       "# of features: None"
      ]
     },
     "metadata": {},
     "output_type": "display_data"
    }
   ],
   "source": [
    "if text_and_input is not None:\n",
    "    display(text_and_input)\n",
    "display(publish_button)"
   ]
  },
  {
   "cell_type": "markdown",
   "metadata": {},
   "source": [
    "---\n",
    "### Thank you very much for sharing your dataset and contributing to a world of Open Science!"
   ]
  },
  {
   "cell_type": "markdown",
   "metadata": {},
   "source": [
    "-----\n",
    "#### Please Ignore Anything Below\n",
    "\n",
    "TODOs:\n",
    "\n",
    "[ ] Format text as Markdown for API Key message (Maybe have separate cell output markdown widget).\n",
    "\n",
    "[x] Infer Row ID attribute and/or allow user to set this. \n",
    "    [ ] try infer?\n",
    "    \n",
    "[x] Set default target attribute \n",
    "    [ ] try infer?\n",
    "\n",
    "[ ] Perform checks for **required** meta-data fields before publish (name, description)\n",
    "\n",
    "[ ] Bug - Column names may not be identical **at any point**.\n",
    "\n",
    "[ ] Input Checking - Perform xsd checks (e.g. no space in column name)"
   ]
  }
 ],
 "metadata": {
  "kernelspec": {
   "display_name": "Python 3",
   "language": "python",
   "name": "python3"
  },
  "language_info": {
   "codemirror_mode": {
    "name": "ipython",
    "version": 3
   },
   "file_extension": ".py",
   "mimetype": "text/x-python",
   "name": "python",
   "nbconvert_exporter": "python",
   "pygments_lexer": "ipython3",
   "version": "3.6.9"
  }
 },
 "nbformat": 4,
 "nbformat_minor": 2
}
