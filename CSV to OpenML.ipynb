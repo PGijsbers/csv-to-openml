{
 "cells": [
  {
   "cell_type": "markdown",
   "metadata": {},
   "source": [
    "If you experience issues using this notebook, or have further questions, please [click here](https://github.com/PGijsbers/csv-to-openml/issues/new) to open an issue on Github."
   ]
  },
  {
   "cell_type": "markdown",
   "metadata": {},
   "source": [
    "TODOs:\n",
    "\n",
    "[ ] Make bare bones first\n",
    "\n",
    "[ ] Format text as Markdown for API Key message (Maybe have separate cell output markdown widget).\n",
    "\n",
    "[ ] Feedback on loaded file: column names, number columns, instances.\n",
    "\n",
    "[ ] Infer Column Types\n",
    "\n",
    "[ ] Allow user to modify column types.\n",
    "\n",
    "[ ] OpenML Logo :)\n"
   ]
  },
  {
   "cell_type": "code",
   "execution_count": 1,
   "metadata": {},
   "outputs": [],
   "source": [
    "from __future__ import print_function\n",
    "from ipywidgets import interact, interactive, fixed, interact_manual\n",
    "import ipywidgets as widgets\n",
    "from IPython.display import Markdown\n",
    "\n",
    "import csv\n",
    "import io\n",
    "import re\n",
    "import openml\n",
    "import pandas as pd"
   ]
  },
  {
   "cell_type": "code",
   "execution_count": 2,
   "metadata": {},
   "outputs": [],
   "source": [
    "# UI components that will be rendered in this notebook:\n",
    "upload_widget = widgets.FileUpload(\n",
    "    accept='.csv',\n",
    "    multiple=False,\n",
    "    description='Select a csv file'\n",
    ")\n",
    "\n",
    "publish_button = widgets.Button(\n",
    "    description='Publish dataset',\n",
    "    disabled=True,\n",
    "    button_style='', # 'success', 'info', 'warning', 'danger' or ''\n",
    "    tooltip='Click me',\n",
    "    icon='check',\n",
    "    visible=False\n",
    ")"
   ]
  },
  {
   "cell_type": "markdown",
   "metadata": {},
   "source": [
    "Please provide select the CSV file you want to upload to OpenML:"
   ]
  },
  {
   "cell_type": "code",
   "execution_count": 3,
   "metadata": {},
   "outputs": [
    {
     "data": {
      "application/vnd.jupyter.widget-view+json": {
       "model_id": "acd1a63aea02409f864bf5dddbffcff7",
       "version_major": 2,
       "version_minor": 0
      },
      "text/plain": [
       "FileUpload(value={}, accept='.csv', description='Select a csv file')"
      ]
     },
     "metadata": {},
     "output_type": "display_data"
    }
   ],
   "source": [
    "data = None\n",
    "\n",
    "def on_file_uploaded(input_):\n",
    "    global data\n",
    "    file_content = io.StringIO(upload_widget.data[0].decode())\n",
    "    \n",
    "    has_header = csv.Sniffer().has_header(file_content.read(1024))\n",
    "    file_content.seek(0)\n",
    "    \n",
    "    data = pd.read_csv(file_content, header=0 if has_header else None)\n",
    "    publish_button.visible=True\n",
    "\n",
    "upload_widget.observe(on_file_uploaded, 'data')\n",
    "upload_widget"
   ]
  },
  {
   "cell_type": "code",
   "execution_count": 11,
   "metadata": {},
   "outputs": [
    {
     "data": {
      "text/markdown": [
       "The selected file has 150 rows and 5 columns. Below is a preview of the first rows of your csv file."
      ],
      "text/plain": [
       "<IPython.core.display.Markdown object>"
      ]
     },
     "execution_count": 11,
     "metadata": {},
     "output_type": "execute_result"
    }
   ],
   "source": [
    "Markdown(f\"The selected file has {len(data)} rows and {len(data.columns)} columns. \"\n",
    "         \"Below is a preview of the first rows of your csv file.\")"
   ]
  },
  {
   "cell_type": "code",
   "execution_count": 6,
   "metadata": {},
   "outputs": [
    {
     "data": {
      "text/html": [
       "<div>\n",
       "<style scoped>\n",
       "    .dataframe tbody tr th:only-of-type {\n",
       "        vertical-align: middle;\n",
       "    }\n",
       "\n",
       "    .dataframe tbody tr th {\n",
       "        vertical-align: top;\n",
       "    }\n",
       "\n",
       "    .dataframe thead th {\n",
       "        text-align: right;\n",
       "    }\n",
       "</style>\n",
       "<table border=\"1\" class=\"dataframe\">\n",
       "  <thead>\n",
       "    <tr style=\"text-align: right;\">\n",
       "      <th></th>\n",
       "      <th>A</th>\n",
       "      <th>B</th>\n",
       "      <th>C</th>\n",
       "      <th>D</th>\n",
       "      <th>Flower</th>\n",
       "    </tr>\n",
       "  </thead>\n",
       "  <tbody>\n",
       "    <tr>\n",
       "      <th>0</th>\n",
       "      <td>5.1</td>\n",
       "      <td>3.5</td>\n",
       "      <td>1.4</td>\n",
       "      <td>0.2</td>\n",
       "      <td>Iris-setosa</td>\n",
       "    </tr>\n",
       "    <tr>\n",
       "      <th>1</th>\n",
       "      <td>4.9</td>\n",
       "      <td>3.0</td>\n",
       "      <td>1.4</td>\n",
       "      <td>0.2</td>\n",
       "      <td>Iris-setosa</td>\n",
       "    </tr>\n",
       "    <tr>\n",
       "      <th>2</th>\n",
       "      <td>4.7</td>\n",
       "      <td>3.2</td>\n",
       "      <td>1.3</td>\n",
       "      <td>0.2</td>\n",
       "      <td>Iris-setosa</td>\n",
       "    </tr>\n",
       "    <tr>\n",
       "      <th>3</th>\n",
       "      <td>4.6</td>\n",
       "      <td>3.1</td>\n",
       "      <td>1.5</td>\n",
       "      <td>0.2</td>\n",
       "      <td>Iris-setosa</td>\n",
       "    </tr>\n",
       "    <tr>\n",
       "      <th>4</th>\n",
       "      <td>5.0</td>\n",
       "      <td>3.6</td>\n",
       "      <td>1.4</td>\n",
       "      <td>0.2</td>\n",
       "      <td>Iris-setosa</td>\n",
       "    </tr>\n",
       "  </tbody>\n",
       "</table>\n",
       "</div>"
      ],
      "text/plain": [
       "     A    B    C    D       Flower\n",
       "0  5.1  3.5  1.4  0.2  Iris-setosa\n",
       "1  4.9  3.0  1.4  0.2  Iris-setosa\n",
       "2  4.7  3.2  1.3  0.2  Iris-setosa\n",
       "3  4.6  3.1  1.5  0.2  Iris-setosa\n",
       "4  5.0  3.6  1.4  0.2  Iris-setosa"
      ]
     },
     "execution_count": 6,
     "metadata": {},
     "output_type": "execute_result"
    }
   ],
   "source": [
    "data.head()"
   ]
  },
  {
   "cell_type": "code",
   "execution_count": null,
   "metadata": {},
   "outputs": [],
   "source": []
  },
  {
   "cell_type": "code",
   "execution_count": null,
   "metadata": {},
   "outputs": [],
   "source": []
  },
  {
   "cell_type": "code",
   "execution_count": null,
   "metadata": {},
   "outputs": [],
   "source": []
  },
  {
   "cell_type": "code",
   "execution_count": null,
   "metadata": {},
   "outputs": [],
   "source": []
  },
  {
   "cell_type": "markdown",
   "metadata": {},
   "source": [
    "    def __init__(self, name, description, format=None,\n",
    "                 data_format='arff', dataset_id=None, version=None,\n",
    "                 creator=None, contributor=None, collection_date=None,\n",
    "                 upload_date=None, language=None, licence=None,\n",
    "                 url=None, default_target_attribute=None,\n",
    "                 row_id_attribute=None, ignore_attribute=None,\n",
    "                 version_label=None, citation=None, tag=None,\n",
    "                 visibility=None, original_data_url=None,\n",
    "                 paper_url=None, update_comment=None,\n",
    "                 md5_checksum=None, data_file=None, features=None,\n",
    "                 qualities=None, dataset=None):"
   ]
  },
  {
   "cell_type": "code",
   "execution_count": null,
   "metadata": {},
   "outputs": [],
   "source": []
  },
  {
   "cell_type": "markdown",
   "metadata": {},
   "source": [
    "Column Names"
   ]
  },
  {
   "cell_type": "markdown",
   "metadata": {},
   "source": [
    "It's crucial for OpenML to know the *type* of data in each column.\n",
    "Each feature should be one of:\n",
    "\n",
    " - A numeric feature. Examples: `car price` or `tree height`\n",
    " - A string (text). Examples: `sales text` or `tree name`\n",
    " - A nominal feature (can only take one of a set of unique values). Examples: `car color` (red, blue, ...) or `evergreen` (yes, no).\n",
    " \n",
    "Based on the data found in our csv file, we inferred the the types for each column.\n",
    "The results are shown below.\n",
    "Please check that the types are correct, and correct any mistakes."
   ]
  },
  {
   "cell_type": "code",
   "execution_count": null,
   "metadata": {},
   "outputs": [],
   "source": []
  },
  {
   "cell_type": "markdown",
   "metadata": {},
   "source": [
    "Please have a look "
   ]
  },
  {
   "cell_type": "code",
   "execution_count": null,
   "metadata": {},
   "outputs": [],
   "source": [
    "openml.config.apikey = ''"
   ]
  },
  {
   "cell_type": "code",
   "execution_count": null,
   "metadata": {},
   "outputs": [],
   "source": []
  },
  {
   "cell_type": "code",
   "execution_count": null,
   "metadata": {},
   "outputs": [],
   "source": [
    "if openml.config.apikey == '':\n",
    "    key_text = widgets.Output()    \n",
    "    need_api_key_text = \"\"\"    \n",
    "    We noticed you have not configured an API key for OpenML yet.\n",
    "    To find your API key, log in on the [OpenML website](https://openml.org) ([register](https://www.openml.org/register) if needed)\n",
    "    , go to your account page (click the avatar image on the top right) and click \"API Authentication\".\n",
    "    \"\"\"\n",
    "    with key_text:\n",
    "        display(Markdown(need_api_key_text))\n",
    "\n",
    "    def set_openml_apikey(key):\n",
    "        openml.config.apikey = key\n",
    "        if re.fullmatch('[a-f0-9]{32}', key):\n",
    "            publish_button.disabled = False\n",
    "\n",
    "    key_input = interactive(set_openml_apikey, key='')\n",
    "    key_input.kwargs_widgets[0].description = 'API Key:'\n",
    "\n",
    "    text_and_input = widgets.VBox([key_text, key_input])\n",
    "    # show 'need_api_key_text'\n",
    "    display(text_and_input)\n",
    "else:\n",
    "    publish_button.disabled = False"
   ]
  },
  {
   "cell_type": "code",
   "execution_count": null,
   "metadata": {},
   "outputs": [],
   "source": [
    "display(publish_button)"
   ]
  },
  {
   "cell_type": "code",
   "execution_count": null,
   "metadata": {},
   "outputs": [],
   "source": []
  },
  {
   "cell_type": "code",
   "execution_count": null,
   "metadata": {},
   "outputs": [],
   "source": []
  }
 ],
 "metadata": {
  "kernelspec": {
   "display_name": "Python 3",
   "language": "python",
   "name": "python3"
  },
  "language_info": {
   "codemirror_mode": {
    "name": "ipython",
    "version": 3
   },
   "file_extension": ".py",
   "mimetype": "text/x-python",
   "name": "python",
   "nbconvert_exporter": "python",
   "pygments_lexer": "ipython3",
   "version": "3.6.9"
  }
 },
 "nbformat": 4,
 "nbformat_minor": 2
}
