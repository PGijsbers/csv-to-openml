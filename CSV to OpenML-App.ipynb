{
 "cells": [
  {
   "cell_type": "markdown",
   "metadata": {},
   "source": [
    "<div style='margin: auto; width: 80%;'><h1 style='font-size: 55px; display: inline-block'>CSV to OpenML Helper</h1> <img style=\"float: left; height:80px; margin-right:10px;\" src=\"https://raw.githubusercontent.com/PGijsbers/Talks/master/odsc/images/openml/dots.png\"></div> <i class=\"fas fa-file-csv\"></i>"
   ]
  },
  {
   "cell_type": "markdown",
   "metadata": {},
   "source": [
    "This notebook helps you upload a csv-file to OpenML.\n",
    "To use this notebook, run the first cell and follow the instructions. \n",
    "If you experience issues using this notebook, or have further questions, please [click here](https://github.com/PGijsbers/csv-to-openml/issues/new) to open an issue on Github."
   ]
  },
  {
   "cell_type": "code",
   "execution_count": 1,
   "metadata": {
    "scrolled": false
   },
   "outputs": [
    {
     "data": {
      "text/markdown": [
       "\n",
       "OpenML wants to capture some rich meta-data about uploaded datasets, so that other users and programs may make better use of the datasets.\n",
       "\n",
       "It's crucial for OpenML to know the *type* of data in each column.\n",
       "Each feature should be one of:\n",
       "\n",
       " - A numeric feature. Examples: `car price` or `tree height`\n",
       " - A string (text). Examples: `sales text` or `tree name`\n",
       " - A categorical feature (can only take one of a set of unique values). Examples: `car color` (red, blue, ...) or `evergreen` (yes, no).\n",
       " \n",
       "Based on the data found in our csv file, we inferred the the types for each column.\n",
       "Below you will find a table which allows you to add or edit any of the feature meta-data OpenML accepts:\n",
       "\n",
       "In the **'Column Names'** column you will find the column names of your data.\n",
       "You can edit the column names directly.\n",
       "\n",
       "The **'Column Types'** column shows the column types as described above, as inferred from the data.\n",
       "If the column type is not correct, please select the correct option from the dropdown menu.\n",
       "\n",
       "The **'Example Values'** column simply shows some values of the column for easy reference.\n",
       "This column should not be edited (editing it has no effect).\n",
       "\n",
       "In the **'Ignore'** column, you can select the columns which should be ignored when creating models (e.g. identifiers or indexes).\n",
       "If no such column exists in the dataset, this column may be ignored.\n",
       "\n",
       "In the **'ID'** column you can select the column that contains row ids, if such a column is present.\n",
       "If no row id column is present in the dataset, this column may be ignored.\n",
       "\n",
       "\n",
       "Please check that the names and types are correct, complete the 'Ignore' and 'ID' columns\n"
      ]
     },
     "metadata": {},
     "output_type": "display_data"
    },
    {
     "data": {
      "application/vnd.jupyter.widget-view+json": {
       "model_id": "1518cf629271486c82ca4f72bac2776b",
       "version_major": 2,
       "version_minor": 0
      },
      "text/plain": [
       "VBox(children=(HBox(children=(Label(value='Column Names', layout=Layout(width='200px')), Label(value='Column T…"
      ]
     },
     "metadata": {},
     "output_type": "display_data"
    },
    {
     "data": {
      "application/vnd.jupyter.widget-view+json": {
       "model_id": "f7698a053abb41fbaa966f90ac757730",
       "version_major": 2,
       "version_minor": 0
      },
      "text/plain": [
       "Button(description='next', style=ButtonStyle())"
      ]
     },
     "metadata": {},
     "output_type": "display_data"
    }
   ],
   "source": [
    "from app_statemachine import App\n",
    "app = App(dummy_mode=True)\n",
    "app.start()"
   ]
  },
  {
   "cell_type": "code",
   "execution_count": null,
   "metadata": {},
   "outputs": [],
   "source": []
  }
 ],
 "metadata": {
  "kernelspec": {
   "display_name": "Python 3",
   "language": "python",
   "name": "python3"
  },
  "language_info": {
   "codemirror_mode": {
    "name": "ipython",
    "version": 3
   },
   "file_extension": ".py",
   "mimetype": "text/x-python",
   "name": "python",
   "nbconvert_exporter": "python",
   "pygments_lexer": "ipython3",
   "version": "3.6.9"
  }
 },
 "nbformat": 4,
 "nbformat_minor": 2
}
